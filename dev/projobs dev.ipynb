{
 "cells": [
  {
   "cell_type": "code",
   "execution_count": 2,
   "metadata": {},
   "outputs": [],
   "source": [
    "import astropy.io.fits as pf\n",
    "import os\n",
    "import sys\n",
    "import numpy as np\n",
    "import datetime"
   ]
  },
  {
   "cell_type": "code",
   "execution_count": null,
   "metadata": {},
   "outputs": [],
   "source": [
    "import pyds9"
   ]
  },
  {
   "cell_type": "code",
   "execution_count": null,
   "metadata": {},
   "outputs": [],
   "source": [
    "ds = pyds9.DS9()"
   ]
  },
  {
   "cell_type": "code",
   "execution_count": 38,
   "metadata": {},
   "outputs": [],
   "source": [
    "def check_header_refpoint(hdr):\n",
    "    \"\"\"\n",
    "    Check a FITS header to see if it does not have the expected data table\n",
    "    columns for telescope aspect.\n",
    "    \n",
    "    Require the following keywords:\n",
    "    \n",
    "    TELESCOP = 'NuSTAR'\n",
    "    INSTRUME = 'FPM?'           # ? is 'A' or 'B'\n",
    "    EXTNAME  = 'DET?_REFPOINT'  # ? is a digit 1 to 4\n",
    "    HDUCLAS1 = 'TEMPORALDATA'\n",
    "    NAXIS    = 2\n",
    "    \n",
    "    Require the following fields:\n",
    "    \n",
    "    TTYPE1   = 'TIME'\n",
    "    TUNIT1   = 's'\n",
    "    TTYPE2   = 'X_DET1'\n",
    "    TUNIT2   = 'pixel'\n",
    "    TTYPE3   = 'Y_DET1'\n",
    "    TUNIT3   = 'pixel'\n",
    "    \"\"\"\n",
    "    try:\n",
    "        if not (\n",
    "            hdr['TELESCOP'] == 'NuSTAR' and\n",
    "            (hdr['INSTRUME'] == 'FPMA' or hdr['INSTRUME'] == 'FPMB') and\n",
    "            (hdr['EXTNAME'] in\n",
    "                ['DET%d_REFPOINT' % i for i in (1, 2, 3, 4)]) and\n",
    "            hdr['HDUCLAS1'] == 'TEMPORALDATA' and\n",
    "            hdr['NAXIS'] == 2 and\n",
    "            hdr['TTYPE1'] == 'TIME' and hdr['TUNIT1'] == 's' and\n",
    "            (hdr['TTYPE2'] in\n",
    "                ['X_DET%d' % i for i in (1, 2, 3, 4)]) and\n",
    "            hdr['TUNIT2'] == 'pixel' and\n",
    "            (hdr['TTYPE3'] in\n",
    "                ['Y_DET%d' % i for i in (1, 2, 3, 4)]) and\n",
    "            hdr['TUNIT3'] == 'pixel'\n",
    "        ):\n",
    "            return False\n",
    "    except KeyError:\n",
    "        return False\n",
    "\n",
    "    return True"
   ]
  },
  {
   "cell_type": "code",
   "execution_count": 45,
   "metadata": {},
   "outputs": [],
   "source": [
    "def check_header_gti(hdr):\n",
    "    \"\"\"\n",
    "    Check FITS header to see if it has the expected data table columns for GTI extension.\n",
    "    \n",
    "    Require the following keywords:\n",
    "    \n",
    "    TELESCOP = 'NuSTAR'\n",
    "    EXTNAME  = 'STDGTI'  # ? is a digit 1 to 4\n",
    "    NAXIS    = 2\n",
    "    \n",
    "    Require the following fields:\n",
    "    \n",
    "    TTYPE1   = 'START'\n",
    "    TUNIT1   = 's' or 'sec'\n",
    "    TTYPE2   = 'STOP'\n",
    "    TUNIT2   = 's' or 'sec'\n",
    "    \"\"\"\n",
    "    try:\n",
    "        if not (\n",
    "            hdr['TELESCOP'] == 'NuSTAR' and\n",
    "            hdr['EXTNAME'] == 'STDGTI' and\n",
    "            hdr['NAXIS'] == 2 and\n",
    "            hdr['TTYPE1'] == 'START' and\n",
    "            hdr['TUNIT1'] in ('s', 'sec') and\n",
    "            hdr['TTYPE2'] == 'STOP' and\n",
    "            hdr['TUNIT2'] in ('s', 'sec')\n",
    "        ):\n",
    "            return False\n",
    "    except KeyError:\n",
    "        return False\n",
    "\n",
    "    return True"
   ]
  },
  {
   "cell_type": "code",
   "execution_count": 4,
   "metadata": {},
   "outputs": [
    {
     "data": {
      "text/plain": [
       "'/Users/qw/astro/nustar/IC342_X1/90201039002/event_cl'"
      ]
     },
     "execution_count": 4,
     "metadata": {},
     "output_type": "execute_result"
    }
   ],
   "source": [
    "os.chdir('/Users/qw/astro/nustar/IC342_X1/90201039002/event_cl')\n",
    "os.getcwd()"
   ]
  },
  {
   "cell_type": "code",
   "execution_count": 28,
   "metadata": {},
   "outputs": [
    {
     "data": {
      "text/plain": [
       "True"
      ]
     },
     "execution_count": 28,
     "metadata": {},
     "output_type": "execute_result"
    }
   ],
   "source": [
    "check_header_refpoint(detB1fh[1].header)"
   ]
  },
  {
   "cell_type": "code",
   "execution_count": 32,
   "metadata": {},
   "outputs": [
    {
     "name": "stdout",
     "output_type": "stream",
     "text": [
      "Filename: nu90201039002B_det1.fits\n",
      "No.    Name      Ver    Type      Cards   Dimensions   Format\n",
      "  0  PRIMARY       1 PrimaryHDU      40   ()      \n",
      "  1  DET1_REFPOINT    1 BinTableHDU     75   389507R x 3C   [1D, 1D, 1D]   \n"
     ]
    }
   ],
   "source": [
    "refpointfile = 'nu90201039002B_det1.fits'\n",
    "detB1fh = pf.open(refpointfile)\n",
    "detB1fh.info()"
   ]
  },
  {
   "cell_type": "code",
   "execution_count": 34,
   "metadata": {},
   "outputs": [
    {
     "name": "stdout",
     "output_type": "stream",
     "text": [
      "Found extension DET1_REFPOINT.\n"
     ]
    }
   ],
   "source": [
    "refpointext = None\n",
    "for ext in detB1fh:\n",
    "    if check_header_refpoint(ext.header):\n",
    "        refpointext = ext\n",
    "        break\n",
    "if refpointext is None:\n",
    "    print('No aspect info in the specified file %s.' % refpointfile)\n",
    "else:\n",
    "    print('Found extension %s.' % refpointext.header['EXTNAME'])"
   ]
  },
  {
   "cell_type": "code",
   "execution_count": 37,
   "metadata": {},
   "outputs": [
    {
     "data": {
      "text/plain": [
       "ColDefs(\n",
       "    name = 'TIME'; format = '1D'; unit = 's'\n",
       "    name = 'X_DET1'; format = '1D'; unit = 'pixel'\n",
       "    name = 'Y_DET1'; format = '1D'; unit = 'pixel'\n",
       ")"
      ]
     },
     "execution_count": 37,
     "metadata": {},
     "output_type": "execute_result"
    }
   ],
   "source": [
    "refpointext.data.columns"
   ]
  },
  {
   "cell_type": "code",
   "execution_count": 42,
   "metadata": {},
   "outputs": [
    {
     "data": {
      "text/plain": [
       "FITS_rec([(2.14279802e+08, 345.94213321, 390.56390939),\n",
       "          (2.14279802e+08, 345.9289652 , 390.29421492),\n",
       "          (2.14279802e+08, 345.81048348, 390.35291152), ...,\n",
       "          (2.14368601e+08, 384.12522513, 366.16993093),\n",
       "          (2.14368601e+08, 383.98007602, 365.28113636),\n",
       "          (2.14368601e+08, 382.41689515, 366.00035761)],\n",
       "         dtype=(numpy.record, [('TIME', '>f8'), ('X_DET1', '>f8'), ('Y_DET1', '>f8')]))"
      ]
     },
     "execution_count": 42,
     "metadata": {},
     "output_type": "execute_result"
    }
   ],
   "source": [
    "refpointext.data"
   ]
  },
  {
   "cell_type": "code",
   "execution_count": 40,
   "metadata": {},
   "outputs": [
    {
     "name": "stdout",
     "output_type": "stream",
     "text": [
      "Filename: nu90201039002B01_gti.fits\n",
      "No.    Name      Ver    Type      Cards   Dimensions   Format\n",
      "  0  PRIMARY       1 PrimaryHDU      72   ()      \n",
      "  1  STDGTI        1 BinTableHDU     89   40R x 2C   [1D, 1D]   \n"
     ]
    }
   ],
   "source": [
    "gtifile = 'nu90201039002B01_gti.fits'\n",
    "gtiBfh = pf.open(gtifile)\n",
    "gtiBfh.info()"
   ]
  },
  {
   "cell_type": "code",
   "execution_count": 46,
   "metadata": {},
   "outputs": [
    {
     "name": "stdout",
     "output_type": "stream",
     "text": [
      "Found extension STDGTI.\n"
     ]
    }
   ],
   "source": [
    "gtiext = None\n",
    "for ext in gtiBfh:\n",
    "    if check_header_gti(ext.header):\n",
    "        gtiext = ext\n",
    "        break\n",
    "if gtiext is None:\n",
    "    print('No GTI info in the specified file %s.' % gtifile)\n",
    "else:\n",
    "    print('Found extension %s.' % gtiext.header['EXTNAME'])"
   ]
  },
  {
   "cell_type": "code",
   "execution_count": 74,
   "metadata": {},
   "outputs": [
    {
     "data": {
      "text/plain": [
       "FITS_rec([(2.14280304e+08, 2.14283833e+08),\n",
       "          (2.14283835e+08, 2.14283835e+08),\n",
       "          (2.14286105e+08, 2.14289627e+08),\n",
       "          (2.14289628e+08, 2.14289629e+08),\n",
       "          (2.14289631e+08, 2.14289631e+08),\n",
       "          (2.14291905e+08, 2.14295426e+08),\n",
       "          (2.14297705e+08, 2.14300301e+08),\n",
       "          (2.14300737e+08, 2.14301225e+08),\n",
       "          (2.14301225e+08, 2.14301225e+08),\n",
       "          (2.14301227e+08, 2.14301227e+08)],\n",
       "         dtype=(numpy.record, [('START', '>f8'), ('STOP', '>f8')]))"
      ]
     },
     "execution_count": 74,
     "metadata": {},
     "output_type": "execute_result"
    }
   ],
   "source": [
    "gtiext.data[:10]"
   ]
  },
  {
   "cell_type": "code",
   "execution_count": 70,
   "metadata": {},
   "outputs": [],
   "source": [
    "gtiarr = np.sort(gtiext.data, order='START', kind='mergesort')"
   ]
  },
  {
   "cell_type": "code",
   "execution_count": 71,
   "metadata": {},
   "outputs": [
    {
     "data": {
      "text/plain": [
       "FITS_rec([(2.14280304e+08, 2.14283833e+08),\n",
       "          (2.14283835e+08, 2.14283835e+08),\n",
       "          (2.14286105e+08, 2.14289627e+08),\n",
       "          (2.14289628e+08, 2.14289629e+08),\n",
       "          (2.14289631e+08, 2.14289631e+08),\n",
       "          (2.14291905e+08, 2.14295426e+08),\n",
       "          (2.14297705e+08, 2.14300301e+08),\n",
       "          (2.14300737e+08, 2.14301225e+08),\n",
       "          (2.14301225e+08, 2.14301225e+08),\n",
       "          (2.14301227e+08, 2.14301227e+08)],\n",
       "         dtype=(numpy.record, [('START', '>f8'), ('STOP', '>f8')]))"
      ]
     },
     "execution_count": 71,
     "metadata": {},
     "output_type": "execute_result"
    }
   ],
   "source": [
    "gtiarr[:10]"
   ]
  },
  {
   "cell_type": "code",
   "execution_count": 72,
   "metadata": {},
   "outputs": [],
   "source": [
    "refpointarr = np.sort(refpointext.data, order='TIME', kind='mergesort')"
   ]
  },
  {
   "cell_type": "code",
   "execution_count": 170,
   "metadata": {},
   "outputs": [
    {
     "data": {
      "text/plain": [
       "(214279802.02499428, 345.94213321250015, 390.56390938823506)"
      ]
     },
     "execution_count": 170,
     "metadata": {},
     "output_type": "execute_result"
    }
   ],
   "source": [
    "refpointarr[:10][0]"
   ]
  },
  {
   "cell_type": "code",
   "execution_count": 81,
   "metadata": {},
   "outputs": [
    {
     "name": "stdout",
     "output_type": "stream",
     "text": [
      "Processing 389507 aimpoints...\n"
     ]
    }
   ],
   "source": [
    "i_refpoint = 0\n",
    "n_refpoint = len(refpointarr)\n",
    "i_gti = 0\n",
    "n_gti = len(gtiarr)\n",
    "coords = []\n",
    "dt = []\n",
    "\n",
    "print('Processing %d aimpoints...' % n_refpoint)\n",
    "\n",
    "while i_refpoint < (n_refpoint - 1) and i_gti < n_gti:\n",
    "    # Ref pointings have a single time while GTI intervals have two.\n",
    "    # Original logic in projobs.pro considers pointing time against [start, stop),\n",
    "    # i.e. >= for start time, < for stop.\n",
    "    \n",
    "    if refpointarr[i_refpoint][0] < gtiarr[i_gti][0]:\n",
    "        # Pointing is before current interval, go to next pointing\n",
    "        i_refpoint += 1\n",
    "        continue\n",
    "    \n",
    "    if refpointarr[i_refpoint][0] >= gtiarr[i_gti][1]:\n",
    "        # Pointing is after current interval, go to next interval\n",
    "        i_gti += 1\n",
    "        continue\n",
    "    \n",
    "    # Otherwise there is some overlap. Add this pointing only if it is entirely within the GTI interval (original behavior).\n",
    "    coords.append([refpointarr[i_refpoint][1], refpointarr[i_refpoint][2]])\n",
    "    dt.append(refpointarr[i_refpoint + 1][0] - refpointarr[i_refpoint][0])\n",
    "    i_refpoint += 1"
   ]
  },
  {
   "cell_type": "code",
   "execution_count": 86,
   "metadata": {},
   "outputs": [
    {
     "name": "stdout",
     "output_type": "stream",
     "text": [
      "209458 aimpoints (52483.125078 / 52483.125077 s)\n"
     ]
    }
   ],
   "source": [
    "print('%d aimpoints (%f / %f s)' % (\n",
    "    len(coords), np.sum(dt),\n",
    "    np.sum(gtiarr.field('STOP') - gtiarr.field('START'))))"
   ]
  },
  {
   "cell_type": "code",
   "execution_count": 100,
   "metadata": {},
   "outputs": [],
   "source": [
    "asphistimg = np.zeros((1000, 1000), dtype=np.float64)\n",
    "x_min, y_min, x_max, y_max = 999, 999, 0, 0\n",
    "for i in range(len(dt)):\n",
    "    x, y = int(np.floor(coords[i][0])), int(np.floor(coords[i][1]))\n",
    "    asphistimg[y, x] += dt[i]\n",
    "    if y < y_min:\n",
    "        y_min = y\n",
    "    elif y > y_max:\n",
    "        y_max = y\n",
    "    if x < x_min:\n",
    "        x_min = x\n",
    "    elif x > x_max:\n",
    "        x_max = x"
   ]
  },
  {
   "cell_type": "code",
   "execution_count": 101,
   "metadata": {},
   "outputs": [
    {
     "data": {
      "text/plain": [
       "1"
      ]
     },
     "execution_count": 101,
     "metadata": {},
     "output_type": "execute_result"
    }
   ],
   "source": [
    "ds.set_np2arr(asphistimg[y_min:y_max+1, x_min:x_max+1])"
   ]
  },
  {
   "cell_type": "code",
   "execution_count": 177,
   "metadata": {},
   "outputs": [
    {
     "name": "stdout",
     "output_type": "stream",
     "text": [
      "Image subspace:  365 399 344 390\n"
     ]
    }
   ],
   "source": [
    "print('Image subspace: ', x_min, x_max, y_min, y_max)"
   ]
  },
  {
   "cell_type": "code",
   "execution_count": 103,
   "metadata": {},
   "outputs": [
    {
     "data": {
      "text/plain": [
       "52483.12507840991"
      ]
     },
     "execution_count": 103,
     "metadata": {},
     "output_type": "execute_result"
    }
   ],
   "source": [
    "np.sum(asphistimg[y_min:y_max+1, x_min:x_max+1])"
   ]
  },
  {
   "cell_type": "code",
   "execution_count": 104,
   "metadata": {},
   "outputs": [
    {
     "data": {
      "text/plain": [
       "52483.12507840991"
      ]
     },
     "execution_count": 104,
     "metadata": {},
     "output_type": "execute_result"
    }
   ],
   "source": [
    "np.sum(asphistimg)"
   ]
  },
  {
   "cell_type": "code",
   "execution_count": 175,
   "metadata": {},
   "outputs": [],
   "source": [
    "aspecthistfh = pf.HDUList(\n",
    "    pf.PrimaryHDU(asphistimg[y_min:y_max+1, x_min:x_max+1])\n",
    ")\n",
    "aspecthistfh[0].header['EXTNAME'] = 'ASPECT_HISTOGRAM'\n",
    "aspecthistfh[0].header['X_OFF'] = (x_min, 'x offset in pixels')\n",
    "aspecthistfh[0].header['Y_OFF'] = (y_min, 'y offset in pixels')\n",
    "aspecthistfh[0].header['EXPOSURE'] = (np.float32(np.sum(asphistimg[y_min:y_max+1, x_min:x_max+1])), 'seconds, total exposure time')\n",
    "aspecthistfh[0].header['COMMENT'] = 'Add the x/y offset to image coordinates to recover aimpoint in detector coordinates.'\n",
    "aspecthistfh[0].header['DATE'] = (datetime.datetime.utcnow().strftime('%Y-%m-%dT%H:%M:%S'), 'File creation date (YYYY-MM-DDThh:mm:ss UTC)')\n",
    "aspecthistfh[0].header['HISTORY'] = 'Aspect histogram image created by filtering %s using %s.' % (\n",
    "    refpointfile, gtifile\n",
    ")\n",
    "for keyword in ('TELESCOP', 'INSTRUME', 'OBS_ID', 'OBJECT', 'TARG_ID', \n",
    "                'RA_OBJ', 'DEC_OBJ', 'RA_NOM', 'DEC_NOM', 'RA_PNT', 'DEC_PNT', 'TIMESYS',\n",
    "                'MJDREFI', 'MJDREFF', 'CLOCKAPP', 'TSTART', 'TSTOP', 'DATE-OBS', 'DATE-END'):\n",
    "    if keyword in refpointext.header:\n",
    "        aspecthistfh[0].header[keyword] = (refpointext.header[keyword], refpointext.header.comments[keyword])\n"
   ]
  },
  {
   "cell_type": "code",
   "execution_count": 176,
   "metadata": {},
   "outputs": [
    {
     "data": {
      "text/plain": [
       "SIMPLE  =                    T / conforms to FITS standard                      \n",
       "BITPIX  =                  -64 / array data type                                \n",
       "NAXIS   =                    2 / number of array dimensions                     \n",
       "NAXIS1  =                   35                                                  \n",
       "NAXIS2  =                   47                                                  \n",
       "EXTEND  =                    T                                                  \n",
       "EXTNAME = 'ASPECT_HISTOGRAM'                                                    \n",
       "X_OFF   =                  365 / x offset in pixels                             \n",
       "Y_OFF   =                  344 / y offset in pixels                             \n",
       "EXPOSURE=            52483.125 / seconds, total exposure time                   \n",
       "DATE    = '2019-08-09T12:10:17' / File creation date (YYYY-MM-DDThh:mm:ss UTC)  \n",
       "TELESCOP= 'NuSTAR  '           / Telescope (mission) name                       \n",
       "INSTRUME= 'FPMB    '           / Instrument name (FPMA or FPMB)                 \n",
       "OBS_ID  = '90201039002'        / Observation ID                                 \n",
       "OBJECT  = 'IC342_X1'           / Name of Target                                 \n",
       "TARG_ID =                    0 / Target ID                                      \n",
       "RA_OBJ  =             56.48175 / [deg] R.A. Object                              \n",
       "DEC_OBJ =            68.082194 / [deg] Dec Object                               \n",
       "RA_NOM  =             56.48175 / [deg] R.A. Nominal                             \n",
       "DEC_NOM =            68.082194 / [deg] Dec. Nominal                             \n",
       "RA_PNT  =              56.4568 / [deg] RA pointing                              \n",
       "DEC_PNT =              68.1026 / [deg] Dec pointing                             \n",
       "TIMESYS = 'TT      '           / Terrestrial Time                               \n",
       "MJDREFI =                55197 / MJD ref day 01 Jan 2010 00:00:00 UTC           \n",
       "MJDREFF =        0.00076601852 / Frac part of MJD ref (32.184secs+34leapsecs)   \n",
       "CLOCKAPP=                    F / TRUE if timestamps corrected by gnd sware      \n",
       "TSTART  =          214279802.0 / Start: Elapsed secs since NuSTAR epoch         \n",
       "TSTOP   =          214368602.0 / Stop: Elapsed secs since NuSTAR epoch          \n",
       "DATE-OBS= '2016-10-16T02:11:08' / Start, in system defined by TIMESYS           \n",
       "DATE-END= '2016-10-17T02:51:08' / Stop, in system defined by TIMESYS            \n",
       "COMMENT Add the x/y offset to image coordinates to recover aimpoint in detector \n",
       "COMMENT coordinates.                                                            \n",
       "HISTORY Aspect histogram image created by filtering nu90201039002B_det1.fits usi\n",
       "HISTORY ng nu90201039002B01_gti.fits.                                           "
      ]
     },
     "execution_count": 176,
     "metadata": {},
     "output_type": "execute_result"
    }
   ],
   "source": [
    "aspecthistfh[0].header"
   ]
  },
  {
   "cell_type": "code",
   "execution_count": 137,
   "metadata": {},
   "outputs": [],
   "source": [
    "aspecthistfh.writeto('aspecthistB.fits')"
   ]
  },
  {
   "cell_type": "code",
   "execution_count": 139,
   "metadata": {},
   "outputs": [
    {
     "data": {
      "text/plain": [
       "XTENSION= 'BINTABLE'           / binary table extension                         \n",
       "BITPIX  =                    8 / 8-bit bytes                                    \n",
       "NAXIS   =                    2 / 2-dimensional binary table                     \n",
       "NAXIS1  =                   24 / width of table in bytes                        \n",
       "NAXIS2  =               389507 / number of rows in table                        \n",
       "PCOUNT  =                    0 / size of special data area                      \n",
       "GCOUNT  =                    1 / one data group (required keyword)              \n",
       "TFIELDS =                    3 / number of fields in each row                   \n",
       "TTYPE1  = 'TIME    '           / Event Time (seconds since Jan 2010 00:00:00 UTC\n",
       "TFORM1  = '1D      '           / data format of the field: DOUBLE PRECISION     \n",
       "TUNIT1  = 's       '           / physical unit of field                         \n",
       "TTYPE2  = 'X_DET1  '           / Detector Reference Point X position (SKY Frame)\n",
       "TFORM2  = '1D      '           / data format of the field: DOUBLE PRECISION     \n",
       "TUNIT2  = 'pixel   '           / physical unit of field                         \n",
       "TTYPE3  = 'Y_DET1  '           / Detector Reference Point Y position (SKY Frame)\n",
       "TFORM3  = '1D      '           / data format of the field: DOUBLE PRECISION     \n",
       "TUNIT3  = 'pixel   '           / physical unit of field                         \n",
       "EXTNAME = 'DET1_REFPOINT'      / name of this binary table extension            \n",
       "HDUCLASS= 'OGIP    '           / Format conforms to OGIP standards              \n",
       "HDUCLAS1= 'TEMPORALDATA'       / Time ordered data                              \n",
       "TELESCOP= 'NuSTAR  '           / Telescope (mission) name                       \n",
       "TIMEPIXR=       0.00000000E+00 / Set to 0.0 for compatibility with other HK item\n",
       "OBS_ID  = '90201039002'        / Observation ID                                 \n",
       "TARG_ID =                    0 / Target ID                                      \n",
       "OBJECT  = 'IC342_X1'           / Name of Target                                 \n",
       "RA_OBJ  =  5.6481750000000E+01 / [deg] R.A. Object                              \n",
       "DEC_OBJ =  6.8082194000000E+01 / [deg] Dec Object                               \n",
       "RA_NOM  =             56.48175 / [deg] R.A. Nominal                             \n",
       "DEC_NOM =            68.082194 / [deg] Dec. Nominal                             \n",
       "RA_PNT  =  5.6456800000000E+01 / [deg] RA pointing                              \n",
       "DEC_PNT =  6.8102600000000E+01 / [deg] Dec pointing                             \n",
       "TIMESYS = 'TT      '           / Terrestrial Time                               \n",
       "MJDREFI =                55197 / MJD ref day 01 Jan 2010 00:00:00 UTC           \n",
       "MJDREFF =  7.6601852000000E-04 / Frac part of MJD ref (32.184secs+34leapsecs)   \n",
       "CLOCKAPP=                    F / TRUE if timestamps corrected by gnd sware      \n",
       "COMMENT MJDREFI + MJDREFF is the epoch January 1.0, 2010, in the TT time        \n",
       "COMMENT system.                                                                 \n",
       "TIMEUNIT= 's       '           / Time unit for timing header keywords           \n",
       "TSTART  =  2.1427980200000E+08 / Start: Elapsed secs since NuSTAR epoch         \n",
       "TSTOP   =  2.1436860200000E+08 / Stop: Elapsed secs since NuSTAR epoch          \n",
       "DATE-OBS= '2016-10-16T02:11:08' / Start, in system defined by TIMESYS           \n",
       "DATE-END= '2016-10-17T02:51:08' / Stop, in system defined by TIMESYS            \n",
       "INSTRUME= 'FPMB    '           / Instrument name (FPMA or FPMB)                 \n",
       "CREATOR = 'nuskypos_0.1.3 (nustardas_14Apr16_v1.6.0)' / Program that created thi\n",
       "DATE    = '2016-10-18T04:29:02' / file creation date (YYYY-MM-DDThh:mm:ss UTC)  \n",
       "HISTORY                                                                         \n",
       "HISTORY START PARAMETER list for nuskypos_0.1.3 at 2016-10-18T04:29:04          \n",
       "HISTORY                                                                         \n",
       "HISTORY P1 pntra = 56.48175                                                     \n",
       "HISTORY P2 pntdec = 68.082194                                                   \n",
       "HISTORY P3 attfile = /home/nustar1/nustarops/fltops/90201039_IC342_X1/9020103900\n",
       "HISTORY P3 2/event_cl/nu90201039002_att.fits                                    \n",
       "HISTORY P4 alignfile = /home/nustar1/SOC/CALDB/data/nustar/fpm/bcf/align/nuCalig\n",
       "HISTORY P4 n20100101v007.fits                                                   \n",
       "HISTORY P5 teldef = /home/nustar1/SOC/CALDB/data/nustar/fpm/bcf/teldef/nuB201001\n",
       "HISTORY P5 01v002.teldef                                                        \n",
       "HISTORY P6 instrument = FPMB                                                    \n",
       "HISTORY P7 aberration = no                                                      \n",
       "HISTORY P8 optaxisfile = /home/nustar1/nustarops/fltops/90201039_IC342_X1/902010\n",
       "HISTORY P8 39002/event_cl/nu90201039002B_oa.fits                                \n",
       "HISTORY P9 det1reffile = /home/nustar1/nustarops/fltops/90201039_IC342_X1/902010\n",
       "HISTORY P9 39002/event_cl/nu90201039002B_det1.fits                              \n",
       "HISTORY P10 det1xref = 350                                                      \n",
       "HISTORY P11 det1yref = 350                                                      \n",
       "HISTORY P12 mastaspectfile = /home/nustar1/nustarops/fltops/90201039_IC342_X1/90\n",
       "HISTORY P12 201039002/event_cl/nu90201039002_mast.fits                          \n",
       "HISTORY P13 initseed = no                                                       \n",
       "HISTORY P14 clobber = yes                                                       \n",
       "HISTORY P15 history = yes                                                       \n",
       "HISTORY P16 chatter = 3                                                         \n",
       "HISTORY P17 mode = ql                                                           \n",
       "HISTORY END PARAMETER list for nuskypos_0.1.3                                   \n",
       "HISTORY                                                                         \n",
       "CHECKSUM= 'MgRdNfOcMfOcMfOc'   / HDU checksum updated 2016-10-18T04:29:04       \n",
       "DATASUM = '1638387931'         / data unit checksum updated 2016-10-18T04:29:04 "
      ]
     },
     "execution_count": 139,
     "metadata": {},
     "output_type": "execute_result"
    }
   ],
   "source": [
    "refpointext.header"
   ]
  },
  {
   "cell_type": "code",
   "execution_count": null,
   "metadata": {},
   "outputs": [],
   "source": []
  }
 ],
 "metadata": {
  "kernelspec": {
   "display_name": "Python 3",
   "language": "python",
   "name": "python3"
  },
  "language_info": {
   "codemirror_mode": {
    "name": "ipython",
    "version": 3
   },
   "file_extension": ".py",
   "mimetype": "text/x-python",
   "name": "python",
   "nbconvert_exporter": "python",
   "pygments_lexer": "ipython3",
   "version": "3.5.4"
  }
 },
 "nbformat": 4,
 "nbformat_minor": 2
}
