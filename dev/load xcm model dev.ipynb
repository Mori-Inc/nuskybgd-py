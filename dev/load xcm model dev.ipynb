{
 "cells": [
  {
   "cell_type": "markdown",
   "metadata": {},
   "source": [
    "# Import an Xspec save file and recover the model parameters\n",
    "\n",
    "We need to load the save file with pyxspec, then retrieve information from the xspec.AllData and xspec.AllModels objects.\n",
    "\n",
    "The model parameters of the background components must be interpreted in tandem with their addmodel_* functions for consistency. Because we are building spectral and imaging products for these background components only, we will not consider any additional model components added by the user, who may need those to account for excess emission.\n",
    "\n",
    "The user is supposed to not modify the loaded data files and existing model components (except their parameter values). For the spectral data files especially, their order must be preserved because this is used to match with their respective region files from bgdinfo.json. The loaded save file should then retain that same order for xspec.AllData."
   ]
  },
  {
   "cell_type": "code",
   "execution_count": 1,
   "metadata": {},
   "outputs": [],
   "source": [
    "import xspec"
   ]
  },
  {
   "cell_type": "code",
   "execution_count": 2,
   "metadata": {},
   "outputs": [],
   "source": [
    "import json\n",
    "import os\n",
    "import astropy.io.fits as pf"
   ]
  },
  {
   "cell_type": "markdown",
   "metadata": {},
   "source": [
    "## Load Xspec save file and bgdinfo.json"
   ]
  },
  {
   "cell_type": "code",
   "execution_count": 3,
   "metadata": {},
   "outputs": [],
   "source": [
    "savefile = 'mymodel.xcm'\n",
    "nustardir = '/apool/qw/astro/nustar'\n",
    "specdir = nustardir + '/IC342_X1/90201039002/event_cl/spec'\n",
    "bgddir = nustardir + '/IC342_X1/90201039002/event_cl/bgd'"
   ]
  },
  {
   "cell_type": "code",
   "execution_count": 4,
   "metadata": {},
   "outputs": [
    {
     "name": "stdout",
     "output_type": "stream",
     "text": [
      "\n",
      "***Warning: The file sent to Xset.restore(): mymodel.xcm\n",
      "    is not detected to be a file generated from Xset.save().\n",
      "    Xset.restore() usage is only intended for Xset.save() output.\n",
      "    General XSPEC/Tcl scripts may not fully execute in PyXspec.\n",
      "\n",
      "\n"
     ]
    }
   ],
   "source": [
    "os.chdir(bgddir)\n",
    "xspec.Xset.restore(savefile)"
   ]
  },
  {
   "cell_type": "code",
   "execution_count": 5,
   "metadata": {},
   "outputs": [
    {
     "name": "stdout",
     "output_type": "stream",
     "text": [
      "bgd1A_sr_g30.pha\n",
      "bgd1B_sr_g30.pha\n",
      "bgd2A_sr_g30.pha\n",
      "bgd2B_sr_g30.pha\n",
      "bgd3A_sr_g30.pha\n",
      "bgd3B_sr_g30.pha\n"
     ]
    }
   ],
   "source": [
    "for i in range(xspec.AllData.nSpectra):\n",
    "    spec = xspec.AllData(i + 1)\n",
    "    print(spec.fileName)"
   ]
  },
  {
   "cell_type": "code",
   "execution_count": 6,
   "metadata": {},
   "outputs": [
    {
     "data": {
      "text/plain": [
       "{2: 'apbgd', 3: 'intbgd', 4: 'fcxb', 5: 'intn'}"
      ]
     },
     "execution_count": 6,
     "metadata": {},
     "output_type": "execute_result"
    }
   ],
   "source": [
    "xspec.AllModels.sources"
   ]
  },
  {
   "cell_type": "markdown",
   "metadata": {},
   "source": [
    "Now read in the bgdinfo.json file for reference image and region files."
   ]
  },
  {
   "cell_type": "code",
   "execution_count": 7,
   "metadata": {},
   "outputs": [],
   "source": [
    "# from fitab.py\n",
    "def check_bgdinfofile(bgdinfofile):\n",
    "    \"\"\"\n",
    "    Check that the background info file has the required items.\n",
    "    \"\"\"\n",
    "    if not os.path.exists(bgdinfofile):\n",
    "        print('Error: file %s not found.' % bgdinfofile)\n",
    "        return False\n",
    "\n",
    "    bgdinfo = json.loads(open(bgdinfofile).read())\n",
    "\n",
    "    problem = False\n",
    "    for key in (\n",
    "        'bgfiles', 'regfiles', 'refimgf', 'bgdapfiles', 'bgddetfiles'\n",
    "    ):\n",
    "        if key not in bgdinfo:\n",
    "            problem = True\n",
    "            print('%s not found in background info file.' % key)\n",
    "\n",
    "    # Same number of items in bgfiles and regfiles:\n",
    "    if len(bgdinfo['bgfiles']) != len(bgdinfo['regfiles']):\n",
    "        problem = True\n",
    "        print('bgfiles and regfiles must have the same number of entries.')\n",
    "\n",
    "    # A and B keys in bgdapfiles and bgddetfiles\n",
    "    if ('A' not in bgdinfo['bgdapfiles'] or\n",
    "            'B' not in bgdinfo['bgdapfiles'] or\n",
    "            'A' not in bgdinfo['bgddetfiles'] or\n",
    "            'B' not in bgdinfo['bgddetfiles']):\n",
    "        problem = True\n",
    "        print('bgdapfiles and bgddetfiles must have A and B keys.')\n",
    "\n",
    "    # Check files exist\n",
    "    queue = []\n",
    "    for _ in bgdinfo['bgfiles']:\n",
    "        if isinstance(_, str):\n",
    "            queue.append(_)\n",
    "\n",
    "    for _ in bgdinfo['regfiles']:\n",
    "        if isinstance(_, str):\n",
    "            queue.append(_)\n",
    "\n",
    "    for _ in bgdinfo['bgddetfiles']['A']:\n",
    "        if isinstance(_, str):\n",
    "            queue.append(_)\n",
    "\n",
    "    for _ in bgdinfo['bgddetfiles']['B']:\n",
    "        if isinstance(_, str):\n",
    "            queue.append(_)\n",
    "\n",
    "    queue.append(bgdinfo['refimgf'])\n",
    "    queue.append(bgdinfo['bgdapfiles']['A'])\n",
    "    queue.append(bgdinfo['bgdapfiles']['B'])\n",
    "\n",
    "    for _ in queue:\n",
    "        if not os.path.exists(_):\n",
    "            problem = True\n",
    "            print('Error: file %s not found.' % _)\n",
    "\n",
    "    if problem:\n",
    "        return False\n",
    "    else:\n",
    "        return bgdinfo"
   ]
  },
  {
   "cell_type": "code",
   "execution_count": 8,
   "metadata": {},
   "outputs": [],
   "source": [
    "bgdinfo = check_bgdinfofile('bgdinfo.json')\n",
    "\n",
    "if bgdinfo is not False:\n",
    "    # bgfiles and regfiles must have the same ordering\n",
    "    bgfiles = bgdinfo['bgfiles']\n",
    "    regfiles = bgdinfo['regfiles']\n",
    "    refimgf = bgdinfo['refimgf']\n",
    "    bgdapfiles = bgdinfo['bgdapfiles']\n",
    "    bgddetfiles = bgdinfo['bgddetfiles']\n",
    "\n",
    "    bgdapim = {}\n",
    "    bgdapim['A'] = pf.open(bgdapfiles['A'])[0].data\n",
    "    bgdapim['B'] = pf.open(bgdapfiles['B'])[0].data\n",
    "\n",
    "    bgddetim = {}\n",
    "    bgddetim['A'] = [\n",
    "        pf.open(bgddetfiles['A'][0])[0].data,\n",
    "        pf.open(bgddetfiles['A'][1])[0].data,\n",
    "        pf.open(bgddetfiles['A'][2])[0].data,\n",
    "        pf.open(bgddetfiles['A'][3])[0].data\n",
    "    ]\n",
    "    bgddetim['B'] = [\n",
    "        pf.open(bgddetfiles['B'][0])[0].data,\n",
    "        pf.open(bgddetfiles['B'][1])[0].data,\n",
    "        pf.open(bgddetfiles['B'][2])[0].data,\n",
    "        pf.open(bgddetfiles['B'][3])[0].data\n",
    "    ]"
   ]
  },
  {
   "cell_type": "code",
   "execution_count": 9,
   "metadata": {},
   "outputs": [
    {
     "data": {
      "text/plain": [
       "{'bgdapfiles': {'A': 'bgdapA.fits', 'B': 'bgdapB.fits'},\n",
       " 'bgddetfiles': {'A': ['det0Aim.fits',\n",
       "   'det1Aim.fits',\n",
       "   'det2Aim.fits',\n",
       "   'det3Aim.fits'],\n",
       "  'B': ['det0Bim.fits', 'det1Bim.fits', 'det2Bim.fits', 'det3Bim.fits']},\n",
       " 'bgfiles': ['bgd1A_sr_g30.pha',\n",
       "  'bgd1B_sr_g30.pha',\n",
       "  'bgd2A_sr_g30.pha',\n",
       "  'bgd2B_sr_g30.pha',\n",
       "  'bgd3A_sr_g30.pha',\n",
       "  'bgd3B_sr_g30.pha'],\n",
       " 'refimgf': 'bgdapA.fits',\n",
       " 'regfiles': ['bgd1.reg',\n",
       "  'bgd1.reg',\n",
       "  'bgd2.reg',\n",
       "  'bgd2.reg',\n",
       "  'bgd3.reg',\n",
       "  'bgd3.reg']}"
      ]
     },
     "execution_count": 9,
     "metadata": {},
     "output_type": "execute_result"
    }
   ],
   "source": [
    "bgdinfo"
   ]
  },
  {
   "cell_type": "markdown",
   "metadata": {},
   "source": [
    "We can check the ordering of the spectra files to make sure they match up."
   ]
  },
  {
   "cell_type": "code",
   "execution_count": 10,
   "metadata": {},
   "outputs": [
    {
     "name": "stdout",
     "output_type": "stream",
     "text": [
      "bgd1A_sr_g30.pha\tbgd1.reg\tOK\n",
      "bgd1B_sr_g30.pha\tbgd1.reg\tOK\n",
      "bgd2A_sr_g30.pha\tbgd2.reg\tOK\n",
      "bgd2B_sr_g30.pha\tbgd2.reg\tOK\n",
      "bgd3A_sr_g30.pha\tbgd3.reg\tOK\n",
      "bgd3B_sr_g30.pha\tbgd3.reg\tOK\n"
     ]
    }
   ],
   "source": [
    "for i in range(xspec.AllData.nSpectra):\n",
    "    specfile = xspec.AllData(i + 1).fileName\n",
    "    if specfile != bgdinfo['bgfiles'][i]:\n",
    "        print('%s\\tError: non-matching %s' % (specfile, bgdinfo['bgfiles'][i]))\n",
    "    else:\n",
    "        print('%s\\t%s\\tOK' % (specfile, bgdinfo['regfiles'][i]))"
   ]
  },
  {
   "cell_type": "markdown",
   "metadata": {},
   "source": [
    "## apbgd component (unfocused aperture image background)\n",
    "\n",
    "Because this background does not go through the optics, it is unfocused so we assume it has the same spectrum everywhere. The normalization rescaling between any two regions is the ratio of the total predicted flux in them, derived from the aspect-projected aperture background image (bgdapA.fits and bgdapB.fits).\n",
    "\n",
    "Since all background spectra from each module are tied to one of them (as the reference spectrum) using the preset ratio in ratios.json, we can do this rescaling using any one spectrum from each module. For consistency, we will use the same reference spectra designation as when the model was generated."
   ]
  },
  {
   "cell_type": "code",
   "execution_count": null,
   "metadata": {},
   "outputs": [],
   "source": []
  },
  {
   "cell_type": "markdown",
   "metadata": {},
   "source": [
    "## fcxb component (unresolved focused CXB background)\n",
    "\n",
    "This background component is focused so it is expected to vary across the detector on the scale of the PSF, due to variance in the cosmic X-ray background. Each background region will have a different determination of the FCXB flux there.\n",
    "\n",
    "By default, we will use an area-weighted average of the FCXB flux in all background regions and model it as constant everywhere. This is done by multiplying the combined aspect-projected detector masks by the average flux, and using this image to infer the total flux in the source region.\n",
    "\n",
    "For imaging analysis, the user can generate a customized image of the FCXB flux and specify it to be used instead. This is also easily done after the fact by generating an image of just the FCXB component from the save file, and replacing this flux with user's custom image."
   ]
  },
  {
   "cell_type": "code",
   "execution_count": null,
   "metadata": {},
   "outputs": [],
   "source": []
  },
  {
   "cell_type": "markdown",
   "metadata": {},
   "source": [
    "## intbgd component (instrumental background)\n",
    "\n",
    "The instrumental background is modelled to be constant over each detector, and tied to one another by the weights in ratios.json.\n",
    "\n",
    "We multiply each detector mask image by the flux on that detector, and create two aspect-projected detector background images, one for each module."
   ]
  },
  {
   "cell_type": "code",
   "execution_count": null,
   "metadata": {},
   "outputs": [],
   "source": []
  },
  {
   "cell_type": "markdown",
   "metadata": {},
   "source": [
    "## intn component (neutron background)"
   ]
  },
  {
   "cell_type": "code",
   "execution_count": null,
   "metadata": {},
   "outputs": [],
   "source": []
  }
 ],
 "metadata": {
  "kernelspec": {
   "display_name": "Python 3",
   "language": "python",
   "name": "python3"
  },
  "language_info": {
   "codemirror_mode": {
    "name": "ipython",
    "version": 3
   },
   "file_extension": ".py",
   "mimetype": "text/x-python",
   "name": "python",
   "nbconvert_exporter": "python",
   "pygments_lexer": "ipython3",
   "version": "3.5.6"
  }
 },
 "nbformat": 4,
 "nbformat_minor": 2
}
