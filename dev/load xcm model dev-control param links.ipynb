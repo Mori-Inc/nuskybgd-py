{
 "cells": [
  {
   "cell_type": "markdown",
   "metadata": {},
   "source": [
    "# Import an Xspec save file and recover the model parameters\n",
    "\n",
    "We need to load the save file with pyxspec, then retrieve information from the xspec.AllData and xspec.AllModels objects.\n",
    "\n",
    "The model parameters of the background components must be interpreted in tandem with their addmodel_* functions for consistency. Because we are building spectral and imaging products for these background components only, we will not consider any additional model components added by the user, who may need those to account for excess emission.\n",
    "\n",
    "The user is supposed to not modify the loaded data files and existing model components (except their parameter values). For the spectral data files especially, their order must be preserved because this is used to match with their respective region files from bgdinfo.json. The loaded save file should then retain that same order for xspec.AllData."
   ]
  },
  {
   "cell_type": "code",
   "execution_count": 2,
   "metadata": {},
   "outputs": [],
   "source": [
    "import xspec"
   ]
  },
  {
   "cell_type": "code",
   "execution_count": 3,
   "metadata": {},
   "outputs": [],
   "source": [
    "import json\n",
    "import os\n",
    "import astropy.io.fits as pf\n",
    "import nuskybgd\n",
    "import nuskybgd.model as numodel\n",
    "from nuskybgd import util"
   ]
  },
  {
   "cell_type": "markdown",
   "metadata": {},
   "source": [
    "## Load Xspec save file and bgdinfo.json"
   ]
  },
  {
   "cell_type": "code",
   "execution_count": 4,
   "metadata": {},
   "outputs": [],
   "source": [
    "savefile = 'mymodel_fit_freefcxb.xcm'\n",
    "nustardir = '/apool/qw/astro/nustar'\n",
    "specdir = nustardir + '/A1656/70001000002/event_cl/spec'\n",
    "bgddir = nustardir + '/A1656/70001000002/event_cl/bgd'"
   ]
  },
  {
   "cell_type": "code",
   "execution_count": 5,
   "metadata": {},
   "outputs": [
    {
     "name": "stdout",
     "output_type": "stream",
     "text": [
      "\n",
      "***Warning: The file sent to Xset.restore(): mymodel_fit_freefcxb.xcm\n",
      "    is not detected to be a file generated from Xset.save().\n",
      "    Xset.restore() usage is only intended for Xset.save() output.\n",
      "    General XSPEC/Tcl scripts may not fully execute in PyXspec.\n",
      "\n",
      "\n"
     ]
    }
   ],
   "source": [
    "os.chdir(bgddir)\n",
    "xspec.Xset.restore(savefile)"
   ]
  },
  {
   "cell_type": "code",
   "execution_count": 6,
   "metadata": {},
   "outputs": [
    {
     "name": "stdout",
     "output_type": "stream",
     "text": [
      "bgd1A_sr_g30.pha\n",
      "bgd1B_sr_g30.pha\n",
      "bgd2A_sr_g30.pha\n",
      "bgd2B_sr_g30.pha\n",
      "bgd3A_sr_g30.pha\n",
      "bgd3B_sr_g30.pha\n",
      "bgd4A_sr_g30.pha\n",
      "bgd4B_sr_g30.pha\n"
     ]
    }
   ],
   "source": [
    "for i in range(xspec.AllData.nSpectra):\n",
    "    spec = xspec.AllData(i + 1)\n",
    "    print(spec.fileName)"
   ]
  },
  {
   "cell_type": "code",
   "execution_count": 7,
   "metadata": {},
   "outputs": [
    {
     "data": {
      "text/plain": [
       "{2: 'apbgd', 3: 'intbgd', 4: 'fcxb', 5: 'intn', 6: 'icm'}"
      ]
     },
     "execution_count": 7,
     "metadata": {},
     "output_type": "execute_result"
    }
   ],
   "source": [
    "xspec.AllModels.sources"
   ]
  },
  {
   "cell_type": "markdown",
   "metadata": {},
   "source": [
    "Now read in the bgdinfo.json file for reference image and region files."
   ]
  },
  {
   "cell_type": "code",
   "execution_count": 8,
   "metadata": {},
   "outputs": [],
   "source": [
    "bgdinfo = numodel.check_bgdinfofile('bgdinfo.json')\n",
    "\n",
    "if bgdinfo is not False:\n",
    "    # bgfiles and regfiles must have the same ordering\n",
    "    bgfiles = bgdinfo['bgfiles']\n",
    "    regfiles = bgdinfo['regfiles']\n",
    "    refimgf = bgdinfo['refimgf']\n",
    "    bgdapfiles = bgdinfo['bgdapfiles']\n",
    "    bgddetfiles = bgdinfo['bgddetfiles']\n",
    "\n",
    "    bgdapim = {}\n",
    "    bgdapim['A'] = pf.open(bgdapfiles['A'])[0].data\n",
    "    bgdapim['B'] = pf.open(bgdapfiles['B'])[0].data\n",
    "\n",
    "    bgddetim = {}\n",
    "    bgddetim['A'] = [\n",
    "        pf.open(bgddetfiles['A'][0])[0].data,\n",
    "        pf.open(bgddetfiles['A'][1])[0].data,\n",
    "        pf.open(bgddetfiles['A'][2])[0].data,\n",
    "        pf.open(bgddetfiles['A'][3])[0].data\n",
    "    ]\n",
    "    bgddetim['B'] = [\n",
    "        pf.open(bgddetfiles['B'][0])[0].data,\n",
    "        pf.open(bgddetfiles['B'][1])[0].data,\n",
    "        pf.open(bgddetfiles['B'][2])[0].data,\n",
    "        pf.open(bgddetfiles['B'][3])[0].data\n",
    "    ]"
   ]
  },
  {
   "cell_type": "code",
   "execution_count": 9,
   "metadata": {},
   "outputs": [
    {
     "data": {
      "text/plain": [
       "{'bgdapfiles': {'A': 'bgdapA.fits', 'B': 'bgdapB.fits'},\n",
       " 'bgddetfiles': {'A': ['det0Aim.fits',\n",
       "   'det1Aim.fits',\n",
       "   'det2Aim.fits',\n",
       "   'det3Aim.fits'],\n",
       "  'B': ['det0Bim.fits', 'det1Bim.fits', 'det2Bim.fits', 'det3Bim.fits']},\n",
       " 'bgfiles': ['bgd1A_sr_g30.pha',\n",
       "  'bgd1B_sr_g30.pha',\n",
       "  'bgd2A_sr_g30.pha',\n",
       "  'bgd2B_sr_g30.pha',\n",
       "  'bgd3A_sr_g30.pha',\n",
       "  'bgd3B_sr_g30.pha',\n",
       "  'bgd4A_sr_g30.pha',\n",
       "  'bgd4B_sr_g30.pha'],\n",
       " 'refimgf': 'bgdapA.fits',\n",
       " 'regfiles': ['bgd1.reg',\n",
       "  'bgd1.reg',\n",
       "  'bgd2.reg',\n",
       "  'bgd2.reg',\n",
       "  'bgd3.reg',\n",
       "  'bgd3.reg',\n",
       "  'bgd4.reg',\n",
       "  'bgd4.reg']}"
      ]
     },
     "execution_count": 9,
     "metadata": {},
     "output_type": "execute_result"
    }
   ],
   "source": [
    "bgdinfo"
   ]
  },
  {
   "cell_type": "markdown",
   "metadata": {},
   "source": [
    "We can check the ordering of the spectra files to make sure they match up."
   ]
  },
  {
   "cell_type": "code",
   "execution_count": 10,
   "metadata": {},
   "outputs": [
    {
     "name": "stdout",
     "output_type": "stream",
     "text": [
      "bgd1A_sr_g30.pha\tbgd1.reg\tOK\n",
      "bgd1B_sr_g30.pha\tbgd1.reg\tOK\n",
      "bgd2A_sr_g30.pha\tbgd2.reg\tOK\n",
      "bgd2B_sr_g30.pha\tbgd2.reg\tOK\n",
      "bgd3A_sr_g30.pha\tbgd3.reg\tOK\n",
      "bgd3B_sr_g30.pha\tbgd3.reg\tOK\n",
      "bgd4A_sr_g30.pha\tbgd4.reg\tOK\n",
      "bgd4B_sr_g30.pha\tbgd4.reg\tOK\n"
     ]
    }
   ],
   "source": [
    "for i in range(xspec.AllData.nSpectra):\n",
    "    specfile = xspec.AllData(i + 1).fileName\n",
    "    if specfile != bgdinfo['bgfiles'][i]:\n",
    "        print('%s\\tError: non-matching %s' % (specfile, bgdinfo['bgfiles'][i]))\n",
    "    else:\n",
    "        print('%s\\t%s\\tOK' % (specfile, bgdinfo['regfiles'][i]))"
   ]
  },
  {
   "cell_type": "markdown",
   "metadata": {},
   "source": [
    "## Control parameter links"
   ]
  },
  {
   "cell_type": "code",
   "execution_count": 15,
   "metadata": {},
   "outputs": [
    {
     "data": {
      "text/plain": [
       "{2: 'apbgd', 3: 'intbgd', 4: 'fcxb', 5: 'intn', 6: 'icm'}"
      ]
     },
     "execution_count": 15,
     "metadata": {},
     "output_type": "execute_result"
    }
   ],
   "source": [
    "# Model source names\n",
    "xspec.AllModels.sources"
   ]
  },
  {
   "cell_type": "code",
   "execution_count": 16,
   "metadata": {},
   "outputs": [
    {
     "data": {
      "text/plain": [
       "8"
      ]
     },
     "execution_count": 16,
     "metadata": {},
     "output_type": "execute_result"
    }
   ],
   "source": [
    "# Number of spectral files\n",
    "xspec.AllData.nSpectra"
   ]
  },
  {
   "cell_type": "code",
   "execution_count": 24,
   "metadata": {},
   "outputs": [
    {
     "data": {
      "text/plain": [
       "['cutoffpl']"
      ]
     },
     "execution_count": 24,
     "metadata": {},
     "output_type": "execute_result"
    }
   ],
   "source": [
    "# Selecting model source of data group number\n",
    "m = xspec.AllModels(4, 'apbgd')\n",
    "# List source components\n",
    "m.componentNames"
   ]
  },
  {
   "cell_type": "code",
   "execution_count": 23,
   "metadata": {},
   "outputs": [
    {
     "data": {
      "text/plain": [
       "3"
      ]
     },
     "execution_count": 23,
     "metadata": {},
     "output_type": "execute_result"
    }
   ],
   "source": [
    "# Number of parameters of model source\n",
    "m.nParameters"
   ]
  },
  {
   "cell_type": "code",
   "execution_count": 20,
   "metadata": {},
   "outputs": [
    {
     "data": {
      "text/plain": [
       "['_AttrRestrictor__tmpRemoveRestrict',\n",
       " '__call__',\n",
       " '__class__',\n",
       " '__delattr__',\n",
       " '__dict__',\n",
       " '__dir__',\n",
       " '__doc__',\n",
       " '__eq__',\n",
       " '__format__',\n",
       " '__ge__',\n",
       " '__getattribute__',\n",
       " '__gt__',\n",
       " '__hash__',\n",
       " '__init__',\n",
       " '__le__',\n",
       " '__lt__',\n",
       " '__module__',\n",
       " '__ne__',\n",
       " '__new__',\n",
       " '__reduce__',\n",
       " '__reduce_ex__',\n",
       " '__repr__',\n",
       " '__setattr__',\n",
       " '__sizeof__',\n",
       " '__str__',\n",
       " '__subclasshook__',\n",
       " '__weakref__',\n",
       " '_getFlux',\n",
       " '_getLumin',\n",
       " '_getStartParIndex',\n",
       " '_handle',\n",
       " '_resetRestrict',\n",
       " '_turnRestrictOff',\n",
       " 'componentNames',\n",
       " 'cutoffpl',\n",
       " 'energies',\n",
       " 'expression',\n",
       " 'flux',\n",
       " 'folded',\n",
       " 'lumin',\n",
       " 'nParameters',\n",
       " 'name',\n",
       " 'setPars',\n",
       " 'show',\n",
       " 'showList',\n",
       " 'startParIndex',\n",
       " 'untie',\n",
       " 'values']"
      ]
     },
     "execution_count": 20,
     "metadata": {},
     "output_type": "execute_result"
    }
   ],
   "source": [
    "dir(m)"
   ]
  },
  {
   "cell_type": "code",
   "execution_count": 37,
   "metadata": {},
   "outputs": [
    {
     "data": {
      "text/plain": [
       "[0.0192684201776, 0.000192684201776, 0.0, 0.0, 1e+20, 1e+24]"
      ]
     },
     "execution_count": 37,
     "metadata": {},
     "output_type": "execute_result"
    }
   ],
   "source": [
    "m.cutoffpl.norm.values"
   ]
  },
  {
   "cell_type": "code",
   "execution_count": 38,
   "metadata": {},
   "outputs": [
    {
     "data": {
      "text/plain": [
       "'= 1.070444e00*apbgd:p6'"
      ]
     },
     "execution_count": 38,
     "metadata": {},
     "output_type": "execute_result"
    }
   ],
   "source": [
    "m.cutoffpl.norm.link"
   ]
  },
  {
   "cell_type": "code",
   "execution_count": 40,
   "metadata": {},
   "outputs": [],
   "source": [
    "m.cutoffpl.norm.untie()"
   ]
  },
  {
   "cell_type": "code",
   "execution_count": 41,
   "metadata": {},
   "outputs": [],
   "source": [
    "m.show()"
   ]
  },
  {
   "cell_type": "code",
   "execution_count": 42,
   "metadata": {},
   "outputs": [],
   "source": [
    "xspec.AllModels(2, 'apbgd').show()"
   ]
  },
  {
   "cell_type": "code",
   "execution_count": 43,
   "metadata": {},
   "outputs": [
    {
     "data": {
      "text/plain": [
       "3"
      ]
     },
     "execution_count": 43,
     "metadata": {},
     "output_type": "execute_result"
    }
   ],
   "source": [
    "m.nParameters"
   ]
  },
  {
   "cell_type": "markdown",
   "metadata": {},
   "source": [
    "## Append the source region to spectra list\n",
    "\n",
    "This process is similar to how background spectra were added to the list. We append the source this way to enable simultaneous fitting of the background model and the source spectrum. ***Background model is frozen in the output. Select parameters of the background model can be manually thawed as desired.***"
   ]
  },
  {
   "cell_type": "code",
   "execution_count": 18,
   "metadata": {},
   "outputs": [],
   "source": [
    "def addspec_src(specfiles):\n",
    "    \"\"\"\n",
    "    Append new data files to existing ones, each in their own data\n",
    "    group. Afterward check the number of loaded spectra against length of\n",
    "    input list. If not all spectra loaded, an Exception is raised.\n",
    "\n",
    "    Input:\n",
    "\n",
    "    specfiles -- List of files to load.\n",
    "    \"\"\"\n",
    "    count_before = xspec.AllData.nSpectra  # Clear any existing loaded data\n",
    "\n",
    "    # Load each spectrum as a new data group\n",
    "    for i in range(len(specfiles)):\n",
    "        xspec.AllData('{num}:{num} {file}'.format(\n",
    "            num=i + 1 + count_before,  # Xspec spectrum numbering starts at 1\n",
    "            file=specfiles[i]))\n",
    "\n",
    "    if xspec.AllData.nSpectra != count_before + len(specfiles):\n",
    "        raise Exception('Not all requested spectra loaded, cannot proceed!')"
   ]
  },
  {
   "cell_type": "code",
   "execution_count": null,
   "metadata": {},
   "outputs": [],
   "source": [
    "def applymodel_apbgd(presets, refspec, bgdapimwt, model_num, src_number, src_apimwt,\n",
    "                     model_name='apbgd'):\n",
    "    \"\"\"\n",
    "    Xspec model component 2: apbgd (aperture image background)\n",
    "\n",
    "    cutoffpl\n",
    "\n",
    "    p1 (PhoIndex) and p2 (HighCut) are frozen.\n",
    "\n",
    "    p3 (norm) is defined as\n",
    "\n",
    "    0.002353\n",
    "    --------  x  bgdapimwt\n",
    "       32\n",
    "\n",
    "    bgdapimwt = np.sum(bgdapim * regmask), for each FPM and region.\n",
    "\n",
    "    This is calculated for the reference spectra for each FPM. The other\n",
    "    spectra are scaled using the second part, sum(bgdapim * regmask).\n",
    "\n",
    "    Inputs:\n",
    "\n",
    "    presets - Preset model parameter values read from file.\n",
    "\n",
    "    refspec - Dictionary with 'A' and 'B' keys whose values are the 0-based\n",
    "        index of the reference spectrum for FPMA and FPMB.\n",
    "\n",
    "    bgdapimwt - List of sum of aperture image inside background region.\n",
    "\n",
    "    model_num - Model component number in Xspec, cannot be the same as another\n",
    "        model or it will replace.\n",
    "    \n",
    "    src_number - Position of first source spectrum (index starts at 1)\n",
    "    \n",
    "    src_apimwt - List of aperture image weights, must have same number of values\n",
    "        as the number of spectra beginning at position src_number.\n",
    "\n",
    "    model_name - Model component name in Xspec, default 'apbgd', cannot be the\n",
    "        same as another model.\n",
    "    \"\"\"\n",
    "    mod_apbgd = presets['models'][0]['components']\n",
    "    \n",
    "    # Input:\n",
    "#     src_number = 5   # Position of first spectrum\n",
    "#     src_apimwt = [0.56]\n",
    "    src_count = len(src_apimwt)\n",
    "    \n",
    "    # Validate the spectra count\n",
    "    if not (xspec.AllData.nSpectra == src_number - 1 + src_count):\n",
    "        raise Exception('Cannot apply model for spectrum: spectrum number out of range.')\n",
    "\n",
    "    # Add the response for this source, starting from spectrum number src_number.\n",
    "    for i in range(src_count):\n",
    "        s = xspec.AllData(i + src_number)\n",
    "        s.multiresponse[model_num - 1] = s.response.rmf\n",
    "        s.multiresponse[model_num - 1].arf = '%s/be.arf' % conf._AUX_DIR\n",
    "\n",
    "    #xspec.Model('cutoffpl', model_name, model_num)\n",
    "    # Model already exists when source spectrum is added. Proceed to adjust the params.\n",
    "\n",
    "    for i in range(src_count):\n",
    "        spec = xspec.AllData(i + src_number)\n",
    "        fpm = util.fpm_parse(spec.fileinfo('INSTRUME'))\n",
    "        m = xspec.AllModels(i + src_number, model_name)\n",
    "        if False:\n",
    "#         if i == refspec['A'] or i == refspec['B']:\n",
    "#             m.cutoffpl.PhoIndex.values = mod_apbgd['cutoffpl'][fpm]['phoindex']\n",
    "#             m.cutoffpl.HighECut.values = mod_apbgd['cutoffpl'][fpm]['highecut']\n",
    "#             m.cutoffpl.PhoIndex.frozen = True\n",
    "#             m.cutoffpl.HighECut.frozen = True\n",
    "#             m.cutoffpl.norm.values = 0.002353 / 32 * bgdapimwt[i]\n",
    "        else:\n",
    "            m.cutoffpl.PhoIndex.link = '%s:p%d' % (\n",
    "                model_name, 3 * refspec[fpm] + 1)\n",
    "            m.cutoffpl.HighECut.link = '%s:p%d' % (\n",
    "                model_name, 3 * refspec[fpm] + 2)\n",
    "            m.cutoffpl.norm.link = '%e * %s:p%d' % (\n",
    "                src_apimwt[i] / bgdapimwt[refspec[fpm]],\n",
    "                model_name,\n",
    "                3 * refspec[fpm] + 3)"
   ]
  },
  {
   "cell_type": "code",
   "execution_count": null,
   "metadata": {},
   "outputs": [],
   "source": [
    "def applymodel_intbgd(presets, refspec, bgddetimsum, model_num, src_number, src_detimsum,\n",
    "                    model_name='intbgd'):\n",
    "    \"\"\"\n",
    "    Xspec model component 3: intbgd (instrument background)\n",
    "\n",
    "    An apec, then many lorentz lines. Each lorentz has 3 parameters (LineE,\n",
    "    Width, norm); apec has 4 parameters (kT, Abundanc, Redshift, norm).\n",
    "\n",
    "    For the reference spectra:\n",
    "\n",
    "    apec params are loaded from preset.\n",
    "\n",
    "    Lines 1-3 (lorentz, lorentz_3, lorentz_4) are loaded from preset.\n",
    "\n",
    "    Line 4 (19 keV, lorentz_5) is loaded from preset:\n",
    "\n",
    "    norm = sum (ifactor * bgddetimsum)\n",
    "           ---------------------------\n",
    "                sum (bgddetimsum)\n",
    "\n",
    "\n",
    "    The other lines are scaled to this one using:\n",
    "\n",
    "    sum(ifactor * bgddetimsum)\n",
    "\n",
    "    Other spectra:\n",
    "\n",
    "    Lines 1-3 scale to refspec lines 1-3 (lorentz, lorentz_3, lorentz_4).\n",
    "\n",
    "    Line 4 scale to refspec line 4 (lorentz_5).\n",
    "\n",
    "    Other lines scale to line 4 (lorentz_5).\n",
    "\n",
    "    apec scale to refspec apec norm.\n",
    "\n",
    "    Note: due to perculiar model component numbering by XSPEC,\n",
    "    as in the following,\n",
    "\n",
    "    Model intbgd:apec<1> + lorentz<2> + lorentz<3> + lorentz<4> + ...\n",
    "\n",
    "    In this case, the lorentz components have references lorentz, lorentz_3,\n",
    "    lorentz_4, ... etc. (skipping over lorentz_2). This numbering appears to\n",
    "    be for all components, not just repeated ones, except the first occurrence\n",
    "    omits the label.\n",
    "\n",
    "    Inputs:\n",
    "\n",
    "    presets - Preset model parameter values read from file.\n",
    "\n",
    "    refspec - Dictionary with 'A' and 'B' keys whose values are the 0-based\n",
    "    index of the reference spectrum for FPMA and FPMB.\n",
    "\n",
    "    bgddetimsum - List of area inside background region for each CCD.\n",
    "\n",
    "    model_num - Model component number in Xspec, cannot be the same as another\n",
    "    model or it will replace.\n",
    "\n",
    "    model_name - Model component name in Xspec, default 'intbgd', cannot be\n",
    "    the same as another model.\n",
    "    \"\"\"\n",
    "    mod_intbgd = presets['models'][1]['components']\n",
    "\n",
    "        # Input:\n",
    "#     src_number = 5   # Position of first spectrum\n",
    "#     src_apimwt = [0.56]\n",
    "    src_count = len(src_apimwt)\n",
    "    \n",
    "    # Validate the spectra count\n",
    "    if not (xspec.AllData.nSpectra == src_number - 1 + src_count):\n",
    "        raise Exception('Cannot apply model for spectrum: spectrum number out of range.')\n",
    "\n",
    "    # Add the response for this source.\n",
    "    for i in range(src_count):\n",
    "        s = xspec.AllData(i + src_number)\n",
    "        s.multiresponse[model_num - 1] = s.response.rmf\n",
    "\n",
    "#     xspec.Model('apec' + '+lorentz' * (len(mod_intbgd) - 1),\n",
    "#                 model_name, model_num)\n",
    "    # Model already exists when source spectrum is added. Proceed to adjust the params.\n",
    "\n",
    "    # There are in total (len(mod_intbgd) * 3 + 1) parameters per spectrum. 4\n",
    "    # parameters for apec and 3 parameters for lorentz.\n",
    "    for i in range(src_count):\n",
    "        spec = xspec.AllData(i + src_number)\n",
    "        fpm = util.fpm_parse(spec.fileinfo('INSTRUME'))\n",
    "        m = xspec.AllModels(i + src_number, model_name)\n",
    "\n",
    "        # Reference spectrum\n",
    "        if False:\n",
    "#         if i == refspec['A'] or i == refspec['B']:\n",
    "\n",
    "#             m.apec.kT.values = mod_intbgd['apec'][fpm]['kt']\n",
    "#             m.apec.Abundanc.values = mod_intbgd['apec'][fpm]['abundanc']\n",
    "#             m.apec.Redshift.values = mod_intbgd['apec'][fpm]['redshift']\n",
    "#             m.apec.kT.frozen = True\n",
    "#             m.apec.Abundanc.frozen = True\n",
    "#             m.apec.Redshift.frozen = True\n",
    "#             m.apec.norm.values = np.sum(\n",
    "#                 bgddetimsum[i] * np.array(\n",
    "#                     mod_intbgd['apec'][fpm]['ifactors'])\n",
    "#             ) / np.sum(bgddetimsum[i])\n",
    "\n",
    "#             # 3 solar lines and 19 keV line -- load them from preset\n",
    "#             for attr in ['lorentz', 'lorentz_3', 'lorentz_4', 'lorentz_5']:\n",
    "#                 m_line = getattr(m, attr)\n",
    "#                 m_line.LineE.values = mod_intbgd[attr][fpm]['linee']\n",
    "#                 m_line.Width.values = mod_intbgd[attr][fpm]['width']\n",
    "#                 m_line.LineE.frozen = True\n",
    "#                 m_line.Width.frozen = True\n",
    "#                 m_line.norm.values = np.sum(\n",
    "#                     bgddetimsum[i] * np.array(\n",
    "#                         mod_intbgd[attr][fpm]['ifactors'])\n",
    "#                 ) / np.sum(bgddetimsum[i])\n",
    "\n",
    "#             # All the other lines -- lorentz_6 through lorentz_(components) --\n",
    "#             # load them from preset and link to 19 keV line (lorentz_5). There\n",
    "#             # are 4+3*3=13 parameters before lorentz_5.\n",
    "#             for attr_n in range(5, len(mod_intbgd)):\n",
    "#                 attr = 'lorentz_%d' % (attr_n + 1)\n",
    "#                 m_line = getattr(m, attr)\n",
    "#                 m_line.LineE.values = mod_intbgd[attr][fpm]['linee']\n",
    "#                 m_line.Width.values = mod_intbgd[attr][fpm]['width']\n",
    "#                 m_line.LineE.frozen = True\n",
    "#                 m_line.Width.frozen = True\n",
    "\n",
    "#                 norm_preset = np.sum(\n",
    "#                     bgddetimsum[i] * np.array(\n",
    "#                         mod_intbgd[attr][fpm]['ifactors'])\n",
    "#                 ) / np.sum(bgddetimsum[i])\n",
    "\n",
    "#                 lorentz_5_norm_npar = i * m.nParameters + 16\n",
    "\n",
    "#                 m_line.norm.link = '%e * %s:p%d' % (\n",
    "#                     norm_preset / m.lorentz_5.norm.values[0],\n",
    "#                     model_name,\n",
    "#                     lorentz_5_norm_npar)\n",
    "\n",
    "        else:\n",
    "            # Link to ref spectrum\n",
    "            m_ref = xspec.AllModels(refspec[fpm] + 1, model_name)\n",
    "            m_ref_npar_offset = m.nParameters * refspec[fpm]\n",
    "\n",
    "            # Link apec to refspec\n",
    "            m.apec.kT.link = '%s:p%d' % (\n",
    "                model_name, m_ref_npar_offset + 1)\n",
    "            m.apec.Abundanc.link = '%s:p%d' % (\n",
    "                model_name, m_ref_npar_offset + 2)\n",
    "            m.apec.Redshift.link = '%s:p%d' % (\n",
    "                model_name, m_ref_npar_offset + 3)\n",
    "\n",
    "            norm_preset = np.sum(\n",
    "                src_detimsum[i] * np.array(\n",
    "                    mod_intbgd['apec'][fpm]['ifactors'])\n",
    "            ) / np.sum(src_detimsum[i])\n",
    "            \n",
    "            ##################\n",
    "            # Only in applymodel\n",
    "            # The reference preset has changed after fitting, so we must\n",
    "            # calculate its original value for scaling.\n",
    "            ref_preset = np.sum(\n",
    "                bgddetimsum[refspec[fpm]] * np.array(\n",
    "                    mod_intbgd['apec'][fpm]['ifactors'])\n",
    "            ) / np.sum(bgddetimsum[refspec[fpm]])\n",
    "            ##################\n",
    "\n",
    "            m.apec.norm.link = '%e * %s:p%d' % (\n",
    "                norm_preset / ref_preset,\n",
    "                model_name,\n",
    "                m_ref_npar_offset + 4\n",
    "            )\n",
    "\n",
    "            # 3 solar lines and 19 keV line -- link to lines in refspec\n",
    "            for attr in ['lorentz', 'lorentz_3', 'lorentz_4', 'lorentz_5']:\n",
    "                m_line = getattr(m, attr)\n",
    "                m_line.LineE.values = mod_intbgd[attr][fpm]['linee']\n",
    "                m_line.Width.values = mod_intbgd[attr][fpm]['width']\n",
    "                m_line.LineE.frozen = True\n",
    "                m_line.Width.frozen = True\n",
    "                m_line.norm.values = np.sum(\n",
    "                    bgddetimsum[i] * np.array(\n",
    "                        mod_intbgd[attr][fpm]['ifactors'])\n",
    "                ) / np.sum(bgddetimsum[i])\n",
    "\n",
    "            # All lines --- load values from preset and link to refspec\n",
    "            for attr_n in range(1, len(mod_intbgd)):\n",
    "                if attr_n == 1:\n",
    "                    attr = 'lorentz'  # special case\n",
    "                else:\n",
    "                    attr = 'lorentz_%d' % (attr_n + 1)\n",
    "\n",
    "                m_line = getattr(m, attr)\n",
    "                m_line.LineE.link = '%s:p%d' % (\n",
    "                    model_name,\n",
    "                    m_ref_npar_offset + 3 * (attr_n - 1) + 5)\n",
    "                m_line.Width.link = '%s:p%d' % (\n",
    "                    model_name,\n",
    "                    m_ref_npar_offset + 3 * (attr_n - 1) + 6)\n",
    "\n",
    "                norm_preset = np.sum(\n",
    "                    src_detimsum[i] * np.array(\n",
    "                        mod_intbgd[attr][fpm]['ifactors'])\n",
    "                ) / np.sum(src_detimsum[i])\n",
    "\n",
    "                m_line.norm.link = '%e * %s:p%d' % (\n",
    "                    norm_preset / getattr(m_ref, attr).norm.values[0],\n",
    "                    model_name,\n",
    "                    m_ref_npar_offset + 3 * (attr_n - 1) + 7\n",
    "                )\n",
    "\n"
   ]
  },
  {
   "cell_type": "code",
   "execution_count": null,
   "metadata": {},
   "outputs": [],
   "source": [
    "src_regfiles = []\n",
    "src_specfiles = []"
   ]
  },
  {
   "cell_type": "code",
   "execution_count": null,
   "metadata": {},
   "outputs": [],
   "source": [
    "#####################################################\n",
    "# For background weights: same procedure as when creating bgd model\n",
    "presets = json.loads(open('%s/ratios.json' % auxildir).read())\n",
    "\n",
    "instrlist = numodel.get_keyword_specfiles(bgdinfo['bgfiles'],\n",
    "    'INSTRUME', ext='SPECTRUM')\n",
    "\n",
    "# Compute aperture image and detector mask based weights using each\n",
    "# background region's mask\n",
    "regmask = util.mask_from_region(bgdinfo['regfiles'],\n",
    "                                bgdinfo['refimgf'])\n",
    "bgdapim, bgddetim = numodel.load_bgdimgs(bgdinfo)\n",
    "\n",
    "# Number of det pixels in the region mask.\n",
    "bgddetweights = numodel.calc_det_weights(bgddetim, regmask, instrlist)\n",
    "bgddetimsum = bgddetweights['sum']\n",
    "\n",
    "# Sum of the aperture image in the region mask.\n",
    "bgdapweights = numodel.calc_ap_weights(bgdapim, regmask, instrlist)\n",
    "bgdapimwt = bgdapweights['sum']\n",
    "\n",
    "refspec = numodel.get_refspec(instrlist)\n",
    "#####################################################\n",
    "\n",
    "src_instrlist = numodel.get_keyword_specfiles(src_specfiles, 'INSTRUME', ext='SPECTRUM')\n",
    "src_regmask = util.mask_from_region(src_regfiles, bgdinfo['refimgf'])\n",
    "src_detweights = numodel.calc_det_weights(bgddetim, src_regmask, src_instrlist)\n",
    "src_detimsum = src_detweights['sum']\n",
    "src_apweights = numodel.calc_ap_weights(bgdapim, src_regmask, src_instrlist)\n",
    "src_apimwt = src_apweights['sum']"
   ]
  },
  {
   "cell_type": "markdown",
   "metadata": {},
   "source": [
    "## Synthesize the model components"
   ]
  },
  {
   "cell_type": "markdown",
   "metadata": {},
   "source": [
    "### apbgd component (unfocused aperture image background)\n",
    "\n",
    "Because this background does not go through the optics, it is unfocused so we assume it has the same spectrum everywhere. The normalization rescaling between any two regions is the ratio of the total predicted flux in them, derived from the aspect-projected aperture background image (bgdapA.fits and bgdapB.fits).\n",
    "\n",
    "Since all background spectra from each module are tied to one of them (as the reference spectrum) using the preset ratio in ratios.json, we can do this rescaling using any one spectrum from each module. For consistency, we will use the same reference spectra designation as when the model was generated."
   ]
  },
  {
   "cell_type": "code",
   "execution_count": null,
   "metadata": {},
   "outputs": [],
   "source": []
  },
  {
   "cell_type": "markdown",
   "metadata": {},
   "source": [
    "### fcxb component (unresolved focused CXB background)\n",
    "\n",
    "This background component is focused so it is expected to vary across the detector on the scale of the PSF, due to variance in the cosmic X-ray background. Each background region will have a different determination of the FCXB flux there.\n",
    "\n",
    "By default, we will use an area-weighted average of the FCXB flux in all background regions and model it as constant everywhere. This is done by multiplying the combined aspect-projected detector masks by the average flux, and using this image to infer the total flux in the source region.\n",
    "\n",
    "For imaging analysis, the user can generate a customized image of the FCXB flux and specify it to be used instead. This is also easily done after the fact by generating an image of just the FCXB component from the save file, and replacing this flux with user's custom image."
   ]
  },
  {
   "cell_type": "code",
   "execution_count": null,
   "metadata": {},
   "outputs": [],
   "source": []
  },
  {
   "cell_type": "markdown",
   "metadata": {},
   "source": [
    "### intbgd component (instrumental background)\n",
    "\n",
    "The instrumental background is modelled to be constant over each detector, and tied to one another by the weights in ratios.json.\n",
    "\n",
    "We multiply each detector mask image by the flux on that detector, and create two aspect-projected detector background images, one for each module."
   ]
  },
  {
   "cell_type": "code",
   "execution_count": null,
   "metadata": {},
   "outputs": [],
   "source": []
  },
  {
   "cell_type": "markdown",
   "metadata": {},
   "source": [
    "### intn component (neutron background)"
   ]
  },
  {
   "cell_type": "code",
   "execution_count": null,
   "metadata": {},
   "outputs": [],
   "source": []
  }
 ],
 "metadata": {
  "kernelspec": {
   "display_name": "Python 3",
   "language": "python",
   "name": "python3"
  },
  "language_info": {
   "codemirror_mode": {
    "name": "ipython",
    "version": 3
   },
   "file_extension": ".py",
   "mimetype": "text/x-python",
   "name": "python",
   "nbconvert_exporter": "python",
   "pygments_lexer": "ipython3",
   "version": "3.5.6"
  }
 },
 "nbformat": 4,
 "nbformat_minor": 2
}
