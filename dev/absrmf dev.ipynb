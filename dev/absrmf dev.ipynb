{
 "cells": [
  {
   "cell_type": "code",
   "execution_count": 1,
   "metadata": {},
   "outputs": [],
   "source": [
    "\"\"\"\n",
    "From nuskybgd_imrefspec\n",
    "\n",
    "Creates reference spectra of the 3 soft bgd components, used by\n",
    "nuskybgd_image, to produce counts images for arbitrary energy bands.  Only\n",
    "needs to be run once unless the nuabs parameters change in the auxil\n",
    "directory.\n",
    "\"\"\"\n",
    "\n",
    "import astropy.io.fits as pf\n",
    "import os\n",
    "import numpy as np\n",
    "import datetime\n",
    "import sys"
   ]
  },
  {
   "cell_type": "code",
   "execution_count": 2,
   "metadata": {},
   "outputs": [],
   "source": [
    "import caldb"
   ]
  },
  {
   "cell_type": "code",
   "execution_count": 3,
   "metadata": {},
   "outputs": [],
   "source": [
    "datadir = '/Users/qw/astro/nustar/IC342_X1/90201039002/event_cl'"
   ]
  },
  {
   "cell_type": "code",
   "execution_count": 4,
   "metadata": {},
   "outputs": [],
   "source": [
    "evtfile = '%s/%s' % (datadir, 'nu90201039002A01_cl.evt')\n",
    "evtfh = pf.open(evtfile)"
   ]
  },
  {
   "cell_type": "code",
   "execution_count": 65,
   "metadata": {},
   "outputs": [],
   "source": [
    "evthdr = evtfh['EVENTS'].header"
   ]
  },
  {
   "cell_type": "code",
   "execution_count": 66,
   "metadata": {},
   "outputs": [
    {
     "data": {
      "text/plain": [
       "XTENSION= 'BINTABLE'           / binary table extension                         \n",
       "BITPIX  =                    8 / 8-bit bytes                                    \n",
       "NAXIS   =                    2 / 2-dimensional binary table                     \n",
       "NAXIS1  =                  286 / width of table in bytes                        \n",
       "NAXIS2  =                60804 / Number of events                               \n",
       "PCOUNT  =                    0 / size of special data area                      \n",
       "GCOUNT  =                    1 / one data group (required keyword)              \n",
       "TFIELDS =                   39 / number of fields in each row                   \n",
       "TTYPE1  = 'TIME    '           / Event Time (seconds since Jan 2010 00:00:00 UTC\n",
       "COMMENT = 'The value in TIME combines the packet timestamp with the             \n",
       "COMMENT subseconds d                                                            \n",
       "TFORM1  = '1D      '           / data format of field: 8-byte DOUBLE            \n",
       "TUNIT1  = 's       '           / physical unit of field                         \n",
       "TTYPE2  = 'PRIOR   '           / Elapsed Livetime Since Prior Event - seconds   \n",
       "TFORM2  = '1D      '           / data format of field: 8-byte DOUBLE            \n",
       "TUNIT2  = 's       '           / physical unit of field                         \n",
       "TTYPE3  = 'NUMRISE '           / Numerator of Time of Rise Estimator (17 bits, s\n",
       "TFORM3  = '1J      '           / data format of field: 4-byte INTEGER           \n",
       "TUNIT3  = 'NA      '           / physical unit of field                         \n",
       "TTYPE4  = 'DENRISE '           / Denominator of Time of Rise Estimator (14 bits,\n",
       "TFORM4  = '1J      '           / data format of field: 4-byte INTEGER           \n",
       "TUNIT4  = 'NA      '           / physical unit of field                         \n",
       "TTYPE5  = 'SUBFRM  '           / Time rel. to 1pps frame-sync: units: 16 1474560\n",
       "TFORM5  = '1J      '           / data format of field: 4-byte INTEGER           \n",
       "TUNIT5  = 'NA      '           / physical unit of field                         \n",
       "TTYPE6  = 'PREPHAS '           / Pre-trigger pulse-height values for central pix\n",
       "COMMENT = 'PREPHAS is the sum of six pre-trigger pulse-height samples'          \n",
       "TFORM6  = '9I      '           / data format of field: 2-byte INTEGER           \n",
       "TUNIT6  = 'NA      '           / physical unit of field                         \n",
       "TTYPE7  = 'POSTPHAS'           / Post-trigger pulse-height values for central pi\n",
       "COMMENT = 'POSTPHAS is the sum of six post-trigger pulse-height samples'        \n",
       "COMMENT = 'Pixel order in PREPHAS and POSTPHAS: row-by-row, starting at         \n",
       "COMMENT upper-le                                                                \n",
       "COMMENT = 'If central-pixel is on-edge, off-detector pixels are zero-filled.'   \n",
       "TFORM7  = '9I      '           / data format of field: 2-byte INTEGER           \n",
       "TUNIT7  = 'NA      '           / physical unit of field                         \n",
       "TTYPE8  = 'RESET   '           / Event Time Relative to Most Recent Charge Pump \n",
       "TFORM8  = '1D      '           / data format of field: 8-byte DOUBLE            \n",
       "TUNIT8  = 's       '           / physical unit of field                         \n",
       "TTYPE9  = 'TRIGGERS'           / Hardware Triggers - same order as PRE and POST \n",
       "TFORM9  = '9X      '           / data format of field: BIT                      \n",
       "TUNIT9  = 'NA      '           / physical unit of field                         \n",
       "TTYPE10 = 'DET_ID  '           / Detector ID (0,1,2,3)                          \n",
       "TFORM10 = '1B      '           / data format of field: BYTE                     \n",
       "TUNIT10 = 'NA      '           / physical unit of field                         \n",
       "TTYPE11 = 'S_CAP   '           / Starting Cap # (0..15)                         \n",
       "TFORM11 = '1B      '           / data format of field: BYTE                     \n",
       "TUNIT11 = 'NA      '           / physical unit of field                         \n",
       "TTYPE12 = 'HWTRIG  '           / Number of hardware triggers                    \n",
       "TFORM12 = '1B      '           / data format of field: BYTE                     \n",
       "TUNIT12 = 'NA      '           / physical unit of field                         \n",
       "TTYPE13 = 'RAWX    '           / X-position of central pixel in raw coordinates \n",
       "TFORM13 = '1B      '           / data format of field: BYTE                     \n",
       "TUNIT13 = 'NA      '           / physical unit of field                         \n",
       "TTYPE14 = 'RAWY    '           / Y-position of central pixel in raw coordinates \n",
       "TFORM14 = '1B      '           / data format of field: BYTE                     \n",
       "TUNIT14 = 'NA      '           / physical unit of field                         \n",
       "TTYPE15 = 'MODE    '           / 1=CP mode, 0=Normal mode                       \n",
       "TFORM15 = '1B      '           / data format of field: BYTE                     \n",
       "TUNIT15 = 'NA      '           / physical unit of field                         \n",
       "TTYPE16 = 'STIM    '           / Stim event flag                                \n",
       "TFORM16 = '1B      '           / data format of field: BYTE                     \n",
       "TUNIT16 = 'NA      '           / physical unit of field                         \n",
       "TTYPE17 = 'UP      '           / uP (offset) event flag                         \n",
       "TFORM17 = '1B      '           / data format of field: BYTE                     \n",
       "TUNIT17 = 'NA      '           / physical unit of field                         \n",
       "TTYPE18 = 'SHIELD  '           / Shield hit flag - OR of low and high shield thr\n",
       "TFORM18 = '1B      '           / data format of field: BYTE                     \n",
       "TUNIT18 = 'NA      '           / physical unit of field                         \n",
       "TTYPE19 = 'SHLD_T  '           / Shield timing ( 4 bits )                       \n",
       "TFORM19 = '1B      '           / data format of field: BYTE                     \n",
       "TUNIT19 = 'NA      '           / physical unit of field                         \n",
       "TTYPE20 = 'SHLD_HI '           / High shield threshold flag                     \n",
       "TFORM20 = '1B      '           / data format of field: BYTE                     \n",
       "TUNIT20 = 'NA      '           / physical unit of field                         \n",
       "EXTNAME = 'EVENTS  '           / Name                                           \n",
       "ONTIME  = 5.247012507647276E+04 / On-source time                                \n",
       "HDUCLASS= 'OGIP    '           / Format conforms to OGIP standards              \n",
       "HDUCLAS1= 'EVENTS  '           / Event extension                                \n",
       "HDUCLAS2= 'ALL     '           / No event filtering                             \n",
       "TELESCOP= 'NuSTAR  '           / Telescope (mission) name                       \n",
       "INSTRUME= 'FPMA    '           / Instrument name                                \n",
       "OBS_ID  = '90201039002'        / Observation ID                                 \n",
       "TARG_ID =                    0 / Target ID                                      \n",
       "OBJECT  = 'IC342_X1'           / Name of observed object                        \n",
       "RA_OBJ  =  5.6481750000000E+01 / [deg] R.A. Object                              \n",
       "DEC_OBJ =  6.8082194000000E+01 / [deg] Dec Object                               \n",
       "RA_NOM  =         5.648175E+01 / R. A. of nominal aspect point                  \n",
       "DEC_NOM =         6.808219E+01 / Dec. of nominal aspect point                   \n",
       "RA_PNT  =  5.6456800000000E+01 / [deg] RA pointing                              \n",
       "DEC_PNT =  6.8102600000000E+01 / [deg] Dec pointing                             \n",
       "PA_PNT  =  1.0359830000000E+02 / [deg] Position angle (roll)                    \n",
       "EQUINOX =            2.000E+03 / Equinox of celestial coord system              \n",
       "RADECSYS= 'FK5     '           / celestial coord system                         \n",
       "TASSIGN = 'SATELLITE'          / Time assigned by onboard clock                 \n",
       "TIMESYS = 'TT      '           / time measured from                             \n",
       "MJDREFI =                55197 / MJD reference day                              \n",
       "MJDREFF = 7.660185200000000E-04 / MJD reference (fraction of day)               \n",
       "TIMEREF = 'LOCAL   '           / reference time                                 \n",
       "CLOCKAPP=                    F / TRUE if timestamps corrected by gnd sware      \n",
       "COMMENT MJDREFI+MJDREFF = epoch of Jan 1, 2010, in TT time system.              \n",
       "TIMEUNIT= 's       '           / unit for time keywords                         \n",
       "TSTART  = 2.142803037500114E+08 / time start                                    \n",
       "TSTOP   = 2.143686000000000E+08 / time stop                                     \n",
       "TELAPSE = 8.829624998855591E+04 / elapsed time                                  \n",
       "DATE-OBS= '2016-10-16T02:11:08' / Start date of observations                    \n",
       "DATE-END= '2016-10-17T02:51:08' / End date of observations                      \n",
       "ORIGIN  = 'NASA/GSFC'          / origin of fits file                            \n",
       "CREATOR = 'extractor v5.29'    / Extractor                                      \n",
       "DATETLM = '2016-10-18T04:20:06' / L1 file creation date (UTC)                   \n",
       "TLM2FITS= '$Id: L1_events_write.pl 4997 2012-07-23 17:26:04Z adavis $' / L1 Soft\n",
       "CHECKSUM= '3AYoA2Wl49WlA9Wl'   / HDU checksum updated 2016-10-18T04:25:42       \n",
       "DATASUM = '910051030'          / data unit checksum updated 2016-10-18T04:25:41 \n",
       "HISTORY TASK: FSORT on FILENAME:                                                \n",
       "HISTORY /home/nustar1/nustarops/fltops/90201039_IC342_X                         \n",
       "HISTORY 1/902010                                                                \n",
       "HISTORY fsort3.1f at 2016-10-18T04:21:30                                        \n",
       "TSORTKEY= 'TIME    '                                                            \n",
       "TTYPE21 = 'STATUS  '           / Event Quality Flag                             \n",
       "TFORM21 = '16X     '           / data format of the field: Array of BIT         \n",
       "TTYPE22 = 'BADPOS  '           / Position of neighbor bad pixels                \n",
       "TFORM22 = '8X      '           / data format of the field: Array of BIT         \n",
       "HISTORY File modified by 'nuflagbad_0.1.7' (nustardas_14Apr16_v1.6.0) at        \n",
       "HISTORY 2016-10-18T04:23:36                                                     \n",
       "HISTORY Added STATUS column                                                     \n",
       "HISTORY Added BADPOS column                                                     \n",
       "HISTORY Used following file(s) to get bad pixels:                               \n",
       "HISTORY CALDB CALDB bad pixels file                                             \n",
       "HISTORY /home/nustar1/nustarops/fltops/90201039_IC342_X1/90201039002/hk/nu9020  \n",
       "HISTORY 1039002A_dspx.fits on-board bad pixels map                              \n",
       "NUFLAG  =                    T / Are events flagged (T/F)?                      \n",
       "COMMENT Events STATUS flags                                                     \n",
       "COMMENT b0000000000000000 Good event                                            \n",
       "COMMENT b0000000000000001 Event falls in a bad pixel from on-ground CALDB Bad   \n",
       "COMMENT Pi                                                                      \n",
       "COMMENT xel File                                                                \n",
       "COMMENT b0000000000000010 Event falls in a on-board disabled pixel              \n",
       "COMMENT b0000000000000100 Event falls in a user bad pixel file                  \n",
       "COMMENT b0000000000001000 Event has a neighbor bad from bad/disabled pixels     \n",
       "COMMENT list                                                                    \n",
       "COMMENT b0000000000010000 Event falls in a pixel on a detector edge             \n",
       "COMMENT b0000000000100000 Event falls in a hot/flickering pixel                 \n",
       "COMMENT b0000000001000000 Event has a neighbor hot/flickering pixel             \n",
       "COMMENT b0000000010000000 Event fails depth cut                                 \n",
       "HISTORY                                                                         \n",
       "HISTORY START PARAMETER list for nuflagbad_0.1.7 at 2016-10-18T04:23:37         \n",
       "HISTORY                                                                         \n",
       "HISTORY P1 infile =                                                             \n",
       "HISTORY /home/nustar1/nustarops/fltops/90201039_IC342_X1/90201039002            \n",
       "HISTORY P1 /event_cl/nu90201039002A_uf.evt                                      \n",
       "HISTORY P2 outfile =                                                            \n",
       "HISTORY /home/nustar1/nustarops/fltops/90201039_IC342_X1/9020103900             \n",
       "HISTORY P2 2/event_cl/nu90201039002A_uf.17553tmp                                \n",
       "HISTORY P3 dispixfile =                                                         \n",
       "HISTORY /home/nustar1/nustarops/fltops/90201039_IC342_X1/9020103                \n",
       "HISTORY P3 9002/hk/nu90201039002A_dspx.fits                                     \n",
       "HISTORY P4 bpfile = CALDB                                                       \n",
       "HISTORY P5 userbpfile = NONE                                                    \n",
       "HISTORY P6 outbpfile =                                                          \n",
       "HISTORY /home/nustar1/nustarops/fltops/90201039_IC342_X1/90201039               \n",
       "HISTORY P6 002/event_cl/nu90201039002A_bp.fits                                  \n",
       "HISTORY P7 clobber = yes                                                        \n",
       "HISTORY P8 history = yes                                                        \n",
       "HISTORY P9 chatter = 3                                                          \n",
       "HISTORY P10 mode = ql                                                           \n",
       "HISTORY END PARAMETER list for nuflagbad_0.1.7                                  \n",
       "HISTORY                                                                         \n",
       "TTYPE23 = 'HOTPOS  '           / Position of neighbor hot/flickering pixels     \n",
       "TFORM23 = '8X      '           / data format of the field: Array of BIT         \n",
       "HISTORY File modified by 'nuhotpix_0.1.6' (nustardas_14Apr16_v1.6.0) at         \n",
       "HISTORY 2016-10-18T04:23:38                                                     \n",
       "HISTORY Added HOTPOS column                                                     \n",
       "HISTORY                                                                         \n",
       "HISTORY START PARAMETER list for nuhotpix_0.1.6 at 2016-10-18T04:23:39          \n",
       "HISTORY                                                                         \n",
       "HISTORY P1 infile =                                                             \n",
       "HISTORY /home/nustar1/nustarops/fltops/90201039_IC342_X1/90201039002            \n",
       "HISTORY P1 /event_cl/nu90201039002A_uf.evt                                      \n",
       "HISTORY P2 outfile =                                                            \n",
       "HISTORY /home/nustar1/nustarops/fltops/90201039_IC342_X1/9020103900             \n",
       "HISTORY P2 2/event_cl/nu90201039002A_uf.17553tmp                                \n",
       "HISTORY P3 outhpfile =                                                          \n",
       "HISTORY /home/nustar1/nustarops/fltops/90201039_IC342_X1/90201039               \n",
       "HISTORY P3 002/event_cl/nu90201039002A_hp.fits                                  \n",
       "HISTORY P4 binsize = 600                                                        \n",
       "HISTORY P5 cellsize = 5                                                         \n",
       "HISTORY P6 impfac = 1.0                                                         \n",
       "HISTORY P7 logpos = -6                                                          \n",
       "HISTORY P8 bthresh = 6                                                          \n",
       "HISTORY P9 cleanflick = yes                                                     \n",
       "HISTORY P10 iterate = yes                                                       \n",
       "HISTORY P11 clobber = yes                                                       \n",
       "HISTORY P12 history = yes                                                       \n",
       "HISTORY P13 chatter = 3                                                         \n",
       "HISTORY P14 mode = ql                                                           \n",
       "HISTORY END PARAMETER list for nuhotpix_0.1.6                                   \n",
       "HISTORY                                                                         \n",
       "TTYPE24 = 'RAWPHAS '           / Pixel Pulse-height raw values                  \n",
       "TFORM24 = '9I      '           / data format of the field: 2-byte INTEGER       \n",
       "TTYPE25 = 'OFFPHAS '           / Pixel Pulse-height after offset correction     \n",
       "TFORM25 = '9E      '           / data format of the field: REAL                 \n",
       "TTYPE26 = 'TRPHAS  '           / Pixel Pulse-height after time of rise correctio\n",
       "TFORM26 = '9E      '           / data format of the field: REAL                 \n",
       "TTYPE27 = 'PHAS    '           / Pixel Pulse-height after common mode correction\n",
       "TFORM27 = '9E      '           / data format of the field: REAL                 \n",
       "TTYPE28 = 'GRADE   '           / Event Grade                                    \n",
       "TFORM28 = '1I      '           / data format of the field: 2-byte INTEGER       \n",
       "TLMIN28 =                    0 / Minimum value for GRADE column                 \n",
       "TLMAX28 =                   32 / Maximum value for GRADE column                 \n",
       "TTYPE29 = 'SWTRIG  '           / Pixel software threshold Flag                  \n",
       "TFORM29 = '9B      '           / data format of the field: Unsigned 1-byte INTEG\n",
       "HISTORY File modified by 'nucalcpha_0.2.1' (nustardas_14Apr16_v1.6.0) at        \n",
       "HISTORY 2016-10-18T04:23:39: computed PHA.                                      \n",
       "HISTORY                                                                         \n",
       "HISTORY START PARAMETER list for nucalcpha_0.2.1 at 2016-10-18T04:23:41         \n",
       "HISTORY                                                                         \n",
       "HISTORY P1 infile =                                                             \n",
       "HISTORY /home/nustar1/nustarops/fltops/90201039_IC342_X1/90201039002            \n",
       "HISTORY P1 /event_cl/nu90201039002A_uf.evt                                      \n",
       "HISTORY P2 outfile =                                                            \n",
       "HISTORY /home/nustar1/nustarops/fltops/90201039_IC342_X1/9020103900             \n",
       "HISTORY P2 2/event_cl/nu90201039002A_uf.17553tmp                                \n",
       "HISTORY P3 offsetfile = CALDB                                                   \n",
       "HISTORY P4 gradefile = CALDB                                                    \n",
       "HISTORY P5 phaparfile = CALDB                                                   \n",
       "HISTORY P6 evtthr = 55                                                          \n",
       "HISTORY P7 timerise = 0.0016                                                    \n",
       "HISTORY P8 cleancols = no                                                       \n",
       "HISTORY P9 clobber = yes                                                        \n",
       "HISTORY P10 history = yes                                                       \n",
       "HISTORY P11 chatter = 3                                                         \n",
       "HISTORY P12 mode = ql                                                           \n",
       "HISTORY END PARAMETER list for nucalcpha_0.2.1                                  \n",
       "HISTORY                                                                         \n",
       "TTYPE30 = 'PIS_GAIN'           / Pixel Pulse Invariant before charge loss correc\n",
       "TFORM30 = '9E      '           / data format of the field: REAL                 \n",
       "TUNIT30 = 'chan    '           / physical unit of field                         \n",
       "TTYPE31 = 'SURRPI  '           / Sum of pulse invariants for pixels below thresh\n",
       "TFORM31 = '1J      '           / data format of the field: 4-byte INTEGER       \n",
       "TTYPE32 = 'PI_CLC  '           / Pixel Pulse Invariant after charge loss correct\n",
       "TFORM32 = '1E      '           / data format of the field: REAL                 \n",
       "TTYPE33 = 'PI      '           / Event Pulse Invariant                          \n",
       "TFORM33 = '1J      '           / data format of the field: 4-byte INTEGER       \n",
       "TUNIT33 = 'chan    '           / physical unit of field                         \n",
       "TNULL33 =                -4095 / Illegal value for this column                  \n",
       "TLMIN33 =                    0 / Minimum value for PI column                    \n",
       "TLMAX33 =                 4095 / Maximum value for PI column                    \n",
       "HISTORY File modified by 'nucalcpi_0.2.1' (nustardas_14Apr16_v1.6.0) at         \n",
       "HISTORY 2016-10-18T04:23:44: computed PI.                                       \n",
       "HISTORY                                                                         \n",
       "HISTORY START PARAMETER list for nucalcpi_0.2.1 at 2016-10-18T04:23:48          \n",
       "HISTORY                                                                         \n",
       "HISTORY P1 infile =                                                             \n",
       "HISTORY /home/nustar1/nustarops/fltops/90201039_IC342_X1/90201039002            \n",
       "HISTORY P1 /event_cl/nu90201039002A_uf.evt                                      \n",
       "HISTORY P2 outfile =                                                            \n",
       "HISTORY /home/nustar1/nustarops/fltops/90201039_IC342_X1/9020103900             \n",
       "HISTORY P2 2/event_cl/nu90201039002A_uf.17553tmp                                \n",
       "HISTORY P3 hkfile =                                                             \n",
       "HISTORY /home/nustar1/nustarops/fltops/90201039_IC342_X1/90201039002            \n",
       "HISTORY P3 /hk/nu90201039002A_fpm.hk                                            \n",
       "HISTORY P4 temperature = 5                                                      \n",
       "HISTORY P5 gainfile = CALDB                                                     \n",
       "HISTORY P6 clcfile = CALDB                                                      \n",
       "HISTORY P7 clcfilterfile = CALDB                                                \n",
       "HISTORY P8 clobber = yes                                                        \n",
       "HISTORY P9 history = yes                                                        \n",
       "HISTORY P10 chatter = 3                                                         \n",
       "HISTORY P11 mode = ql                                                           \n",
       "HISTORY END PARAMETER list for nucalcpi_0.2.1                                   \n",
       "HISTORY                                                                         \n",
       "HISTORY File modified by 'nuflagevt_0.1.3' (nustardas_14Apr16_v1.6.0) at        \n",
       "HISTORY 2016-10-18T04:23:55: computed PHA.                                      \n",
       "HISTORY                                                                         \n",
       "HISTORY START PARAMETER list for nuflagevt_0.1.3 at 2016-10-18T04:24:00         \n",
       "HISTORY                                                                         \n",
       "HISTORY P1 infile =                                                             \n",
       "HISTORY /home/nustar1/nustarops/fltops/90201039_IC342_X1/90201039002            \n",
       "HISTORY P1 /event_cl/nu90201039002A_uf.evt                                      \n",
       "HISTORY P2 outfile =                                                            \n",
       "HISTORY /home/nustar1/nustarops/fltops/90201039_IC342_X1/9020103900             \n",
       "HISTORY P2 2/event_cl/nu90201039002A_uf.17553tmp                                \n",
       "HISTORY P3 depthcutfile = CALDB                                                 \n",
       "HISTORY P4 evtcutfile = CALDB                                                   \n",
       "HISTORY P5 clobber = yes                                                        \n",
       "HISTORY P6 history = yes                                                        \n",
       "HISTORY P7 chatter = 3                                                          \n",
       "HISTORY P8 mode = ql                                                            \n",
       "HISTORY END PARAMETER list for nuflagevt_0.1.3                                  \n",
       "HISTORY                                                                         \n",
       "TTYPE34 = 'DET1X   '           / Event X position Focal Plane Bench Frame       \n",
       "TFORM34 = '1I      '           / data format of the field: 2-byte INTEGER       \n",
       "TUNIT34 = 'pixel   '           / physical unit of field                         \n",
       "TLMIN34 =                    1 / Minimum value for DET1X column                 \n",
       "TLMAX34 =                  360 / Maximum value for DET1X column                 \n",
       "TNULL34 =                -4095 / Illegal value for this column                  \n",
       "TCDLT34 =  1.2096000000000E-01 / DET1X image scale (mm/pixel)                   \n",
       "TCTYP34 = 'DET1X   '           / DET1X coordinate type                          \n",
       "TCUNI34 = 'mm      '           / DET1X units                                    \n",
       "TTYPE35 = 'DET1Y   '           / Event Y position Focal Plane Bench Frame       \n",
       "TFORM35 = '1I      '           / data format of the field: 2-byte INTEGER       \n",
       "TUNIT35 = 'pixel   '           / physical unit of field                         \n",
       "TLMIN35 =                    1 / Minimum value for DET1Y column                 \n",
       "TLMAX35 =                  360 / Maximum value for DET1Y column                 \n",
       "TNULL35 =                -4095 / Illegal value for this column                  \n",
       "TCDLT35 =  1.2096000000000E-01 / DET1Y image scale (mm/pixel)                   \n",
       "TCTYP35 = 'DET1Y   '           / DET1Y coordinate type                          \n",
       "TCUNI35 = 'mm      '           / DET1Y units                                    \n",
       "TTYPE36 = 'DET2X   '           / Event X position Optics Bench Frame            \n",
       "TFORM36 = '1I      '           / data format of the field: 2-byte INTEGER       \n",
       "TUNIT36 = 'pixel   '           / physical unit of field                         \n",
       "TLMIN36 =                    1 / Minimum value for DET2X column                 \n",
       "TLMAX36 =                  600 / Maximum value for DET2X column                 \n",
       "TNULL36 =                -4095 / Illegal value for this column                  \n",
       "TCDLT36 =  1.2096000000000E-01 / DET2X image scale (mm/pixel)                   \n",
       "TCTYP36 = 'DET2X   '           / DET2X coordinate type                          \n",
       "TCUNI36 = 'mm      '           / DET2X units                                    \n",
       "TTYPE37 = 'DET2Y   '           / Event Y position Optics Bench Frame            \n",
       "TFORM37 = '1I      '           / data format of the field: 2-byte INTEGER       \n",
       "TUNIT37 = 'pixel   '           / physical unit of field                         \n",
       "TLMIN37 =                    1 / Minimum value for DET2Y column                 \n",
       "TLMAX37 =                  600 / Maximum value for DET2Y column                 \n",
       "TNULL37 =                -4095 / Illegal value for this column                  \n",
       "TCDLT37 =  1.2096000000000E-01 / DET2Y image scale (mm/pixel)                   \n",
       "TCTYP37 = 'DET2Y   '           / DET2Y coordinate type                          \n",
       "TCUNI37 = 'mm      '           / DET2Y units                                    \n",
       "HISTORY File modified by 'nucalcpos_0.2.3' (nustardas_14Apr16_v1.6.0) at        \n",
       "HISTORY 2016-10-18T04:24:02.                                                    \n",
       "HISTORY                                                                         \n",
       "HISTORY START PARAMETER list for nucalcpos_0.2.3 at 2016-10-18T04:24:08         \n",
       "HISTORY                                                                         \n",
       "HISTORY P1 infile = 23986_tmp_nucoord/nu90201039002A_uf.17553tmp                \n",
       "HISTORY P2 outfile = 23986_tmp_nucoord/nu90201039002A_uf.23986tmp               \n",
       "HISTORY P3 pixposfile = CALDB                                                   \n",
       "HISTORY P4 saveraw2coord = no                                                   \n",
       "HISTORY P5 initseed = no                                                        \n",
       "HISTORY P6 alignfile = /home/nustar1/SOC/CALDB/data/nustar/fpm/bcf/align/nuCalig\n",
       "HISTORY P6 n20100101v007.fits                                                   \n",
       "HISTORY P7 mastaspectfile = /home/nustar1/nustarops/fltops/90201039_IC342_X1/902\n",
       "HISTORY P7 01039002/event_cl/nu90201039002_mast.fits                            \n",
       "HISTORY P8 clobber = yes                                                        \n",
       "HISTORY P9 history = yes                                                        \n",
       "HISTORY P10 chatter = 3                                                         \n",
       "HISTORY P11 mode = ql                                                           \n",
       "HISTORY END PARAMETER list for nucalcpos_0.2.3                                  \n",
       "HISTORY                                                                         \n",
       "TTYPE38 = 'X       '           / label for field                                \n",
       "TFORM38 = '1I      '           / format of field                                \n",
       "TTYPE39 = 'Y       '           / label for field                                \n",
       "TFORM39 = '1I      '           / format of field                                \n",
       "ABERRAT =                    F / Has aberration been corrected for in sky coords\n",
       "FOLOWSUN=                    F / Has the Sun position been recalculated for each\n",
       "TLMIN38 =                    1 / Minimum value for X column                     \n",
       "TLMAX38 =                 1000 / Maximum value for X column                     \n",
       "TCRPX38 =         5.005000E+02 / X image reference pixel                        \n",
       "TCRVL38 =         5.648175E+01 / X image reference pixel coordinate (deg)       \n",
       "TCDLT38 =        -6.828076E-04 / X image scale (deg/pixel)                      \n",
       "TCTYP38 = 'RA---TAN'           / X coordinate type                              \n",
       "TCUNI38 = 'deg     '           / X units                                        \n",
       "TNULL38 =                   -1 / X null value                                   \n",
       "TLMIN39 =                    1 / Minimum value for Y column                     \n",
       "TLMAX39 =                 1000 / Maximum value for Y column                     \n",
       "TCRPX39 =         5.005000E+02 / Y image reference pixel                        \n",
       "TCRVL39 =         6.808219E+01 / Y image reference pixel coordinate (deg)       \n",
       "TCDLT39 =         6.828076E-04 / Y image scale (deg/pixel)                      \n",
       "TCTYP39 = 'DEC--TAN'           / Y coordinate type                              \n",
       "TCUNI39 = 'deg     '           / Y units                                        \n",
       "TNULL39 =                   -1 / Y null value                                   \n",
       "HISTORY The DETX DETY X Y columns were updated by coordinator 0.1 on 2016-10-18T\n",
       "HISTORY 04:24:23 UTC using teldef file 23986_tmp_nucoord/nuA20100101v002.teldef \n",
       "HISTORY and attitude file 23986_tmp_nucoord/nu90201039002_att.fits.             \n",
       "HISTORY                                                                         \n",
       "HISTORY START PARAMETER list for coordinator_0.1 at 2016-10-18T04:24:23         \n",
       "HISTORY                                                                         \n",
       "HISTORY P1 eventfile = 23986_tmp_nucoord/nu90201039002A_uf.17553tmp             \n",
       "HISTORY P2 eventext = EVENTS                                                    \n",
       "HISTORY P3 timecol = TIME                                                       \n",
       "HISTORY P4 skyxnull = -1                                                        \n",
       "HISTORY P5 skyynull = -1                                                        \n",
       "HISTORY P6 attfile = 23986_tmp_nucoord/nu90201039002_att.fits                   \n",
       "HISTORY P7 teldef = 23986_tmp_nucoord/nuA20100101v002.teldef                    \n",
       "HISTORY P8 aberration = no                                                      \n",
       "HISTORY P9 follow_sun = yes                                                     \n",
       "HISTORY P10 ra = 56.48175                                                       \n",
       "HISTORY P11 dec = 68.082194                                                     \n",
       "HISTORY P12 randomize = yes                                                     \n",
       "HISTORY P13 seed = -1956                                                        \n",
       "HISTORY P14 timemargin = 32.                                                    \n",
       "HISTORY P15 interpolation = LINEAR                                              \n",
       "HISTORY P16 history = yes                                                       \n",
       "HISTORY P17 chatter = 3                                                         \n",
       "HISTORY P18 mode = ql                                                           \n",
       "HISTORY END PARAMETER list for coordinator_0.1                                  \n",
       "HISTORY                                                                         \n",
       "TUNIT38 = 'pixel   '           / physical unit of field                         \n",
       "TUNIT39 = 'pixel   '           / physical unit of field                         \n",
       "SOFTVER = 'Hea_09May2016_V6.19_nustardas_14Apr16_v1.6.0' / HEASoft/NuSTAR softwa\n",
       "CALDBVER= '20160606'           / CALDB index version                            \n",
       "TIMEZERO= 0.000000000000000E+00 / Time Zero                                     \n",
       "DATAMODE= 'NONE    '           / Datamode                                       \n",
       "DETNAM  = 'NONE    '           / Detector                                       \n",
       "EXPOSURE=     49172.6275853271 / Exposure time                                  \n",
       "LIVETIME=     49172.6275853271 / On-source time                                 \n",
       "MJD-OBS = 5.767709687423625E+04 / MJD of data start time                        \n",
       "USER    = 'nustar  '           / User name of creator                           \n",
       "FILIN001= 'nu90201039002A_uf.evt' / Input file name                             \n",
       "DATE    = '2016-10-18T04:25:41' / file creation date (YYYY-MM-DDThh:mm:ss UT)   \n",
       "DSTYP1  = 'GRADE   '           / Data subspace descriptor: name                 \n",
       "DSVAL1  = '0:26    '           / Data subspace descriptor: value                \n",
       "NPIXSOU =     1.0000000000E+06 / Number of pixels in selected region            \n",
       "HISTORY TASK: FSELECT on FILENAME: 28465_tmp_nuscreen/xselect28465evt.flt       \n",
       "HISTORY fselect4.4 at 2016-10-18T04:25:41                                       \n",
       "HISTORY Expression: .NOT.((RAWX==0.AND.GRADE==25).OR.(RAWX==31.AND.GRADE==25).OR\n",
       "HISTORY .(RAWY==0.AND.GRADE==26).OR.(RAWY==31.AND.GRADE==26))                   \n",
       "HISTORY TASK: FSELECT on FILENAME: 28465_tmp_nuscreen/fsel2425-28465evt.flt     \n",
       "HISTORY fselect4.4 at 2016-10-18T04:25:41                                       \n",
       "HISTORY Expression: STATUS==b000000000x0xx000&&SHIELD==0                        \n",
       "HISTORY                                                                         \n",
       "HISTORY START PARAMETER list for nuscreen_0.2.0 at 2016-10-17T21:25:42          \n",
       "HISTORY                                                                         \n",
       "HISTORY P1 infile = /home/nustar1/nustarops/fltops/90201039_IC342_X1/90201039002\n",
       "HISTORY P1 /event_cl/nu90201039002A_uf.evt                                      \n",
       "HISTORY P2 gtiscreen = yes                                                      \n",
       "HISTORY P3 evtscreen = yes                                                      \n",
       "HISTORY P4 gtiexpr = \"(ELV>3&&SAA_A==0&&SAA_B==0&&SW_SAA==0&&SW_TENTACLE==0&&SLE\n",
       "HISTORY P4 W==0&&SOURCE==1&&RESIDUAL<7)&&(METGRID_FLAG==0||METGRID_FLAG==2)&&(CA\n",
       "HISTORY P4 L0STAT==0&&LIVETIME>0)\"                                              \n",
       "HISTORY P5 gradeexpr = \"0-26\"                                                   \n",
       "HISTORY P6 statusexpr = \"STATUS==b000000000x0xx000&&SHIELD==0\"                  \n",
       "HISTORY P7 createattgti = yes                                                   \n",
       "HISTORY P8 createinstrgti = yes                                                 \n",
       "HISTORY P9 outdir = /home/nustar1/nustarops/fltops/90201039_IC342_X1/90201039002\n",
       "HISTORY P9 /event_cl                                                            \n",
       "HISTORY P10 obsmode = SCIENCE                                                   \n",
       "HISTORY P11 hkfile = /home/nustar1/nustarops/fltops/90201039_IC342_X1/9020103900\n",
       "HISTORY P11 2/hk/nu90201039002A_fpm.hk                                          \n",
       "HISTORY P12 mkffile = /home/nustar1/nustarops/fltops/90201039_IC342_X1/902010390\n",
       "HISTORY P12 02/event_cl/nu90201039002A.mkf                                      \n",
       "HISTORY P13 usrgtifile = NONE                                                   \n",
       "HISTORY P14 hkrangefile = CALDB                                                 \n",
       "HISTORY P15 evtrangefile = CALDB                                                \n",
       "HISTORY P16 depthcut = NOMINAL                                                  \n",
       "HISTORY P17 timecol = TIME                                                      \n",
       "HISTORY P18 gtiext = GTI                                                        \n",
       "HISTORY P19 gtifile = /home/nustar1/nustarops/fltops/90201039_IC342_X1/902010390\n",
       "HISTORY P19 02/event_cl/nu90201039002A01_gti.fits                               \n",
       "HISTORY P20 outfile = /home/nustar1/nustarops/fltops/90201039_IC342_X1/902010390\n",
       "HISTORY P20 02/event_cl/nu90201039002A01_cl.evt                                 \n",
       "HISTORY P21 cleancols = no                                                      \n",
       "HISTORY P22 cleanup = yes                                                       \n",
       "HISTORY P23 clobber = yes                                                       \n",
       "HISTORY P24 chatter = 3                                                         \n",
       "HISTORY P25 history = yes                                                       \n",
       "HISTORY P26 mode = ql                                                           \n",
       "HISTORY                                                                         \n",
       "HISTORY END PARAMETER list for nuscreen_0.2.0                                   \n",
       "DEADC   =    0.937154762136746 / Deadtime correction                            \n",
       "DEADAPP =                    F / Has DEADC been applied to data                 \n",
       "NUPSDOUT=                   0. / Out of calibrated PSD grid ontime (s)          \n",
       "DEPTHCUT= 'NOMINAL '           / Events depth cut screening                     \n",
       "OBSMODE = 'SCIENCE '           / Observing mode selection                       "
      ]
     },
     "execution_count": 66,
     "metadata": {},
     "output_type": "execute_result"
    }
   ],
   "source": [
    "evthdr"
   ]
  },
  {
   "cell_type": "code",
   "execution_count": 3,
   "metadata": {},
   "outputs": [],
   "source": [
    "cal = caldb.CalDB(os.environ['CALDB'])"
   ]
  },
  {
   "cell_type": "markdown",
   "metadata": {},
   "source": [
    "# Multiple GRPRMF by DETABS for each detector"
   ]
  },
  {
   "cell_type": "code",
   "execution_count": 46,
   "metadata": {},
   "outputs": [],
   "source": [
    "idet = 0\n",
    "detnam = 'DET%d' % idet"
   ]
  },
  {
   "cell_type": "code",
   "execution_count": 44,
   "metadata": {},
   "outputs": [
    {
     "name": "stdout",
     "output_type": "stream",
     "text": [
      "CALDB files for GRPRMF FPMA DET0 2016-10-16T02:11:08:\n",
      "/usr/local/heasarc/CALDB/\n",
      "data/nustar/fpm/cpf/rmf/nuAcutgrprmf20100101v001.fits\n",
      "data/nustar/fpm/cpf/rmf/nuAcutgrprmf20100101v002.fits ***SELECTED***\n"
     ]
    }
   ],
   "source": [
    "grprmffile = '%s/%s' %(\n",
    "    os.environ['CALDB'],\n",
    "    cal.getGRPRMF(evthdr['INSTRUME'], detnam, evthdr['DATE-OBS'])\n",
    ")"
   ]
  },
  {
   "cell_type": "code",
   "execution_count": 35,
   "metadata": {},
   "outputs": [
    {
     "data": {
      "text/plain": [
       "'/usr/local/heasarc/CALDB/data/nustar/fpm/cpf/rmf/nuAcutgrprmf20100101v002.fits'"
      ]
     },
     "execution_count": 35,
     "metadata": {},
     "output_type": "execute_result"
    }
   ],
   "source": [
    "grprmffile"
   ]
  },
  {
   "cell_type": "code",
   "execution_count": 36,
   "metadata": {},
   "outputs": [],
   "source": [
    "grprmffh = pf.open(grprmffile)"
   ]
  },
  {
   "cell_type": "code",
   "execution_count": 37,
   "metadata": {},
   "outputs": [
    {
     "name": "stdout",
     "output_type": "stream",
     "text": [
      "Filename: /usr/local/heasarc/CALDB/data/nustar/fpm/cpf/rmf/nuAcutgrprmf20100101v002.fits\n",
      "No.    Name      Ver    Type      Cards   Dimensions   Format\n",
      "  0  PRIMARY       1 PrimaryHDU      12   ()      \n",
      "  1  GRPRMF        1 BinTableHDU     47   1R x 5C   [1B, 1B, 1B, 1B, 40A]   \n",
      "  2  GRPRMF        2 BinTableHDU     47   1R x 5C   [1B, 1B, 1B, 1B, 40A]   \n",
      "  3  GRPRMF        3 BinTableHDU     47   1R x 5C   [1B, 1B, 1B, 1B, 40A]   \n",
      "  4  GRPRMF        4 BinTableHDU     48   1R x 5C   [1B, 1B, 1B, 1B, 40A]   \n"
     ]
    }
   ],
   "source": [
    "grprmffh.info()"
   ]
  },
  {
   "cell_type": "code",
   "execution_count": 48,
   "metadata": {
    "scrolled": true
   },
   "outputs": [
    {
     "data": {
      "text/plain": [
       "XTENSION= 'BINTABLE'           / binary table extension                         \n",
       "BITPIX  =                    8 / 8-bit bytes                                    \n",
       "NAXIS   =                    2 / 2-dimensional binary table                     \n",
       "NAXIS1  =                   44 / width of table in bytes                        \n",
       "NAXIS2  =                    1 / number of rows in table                        \n",
       "PCOUNT  =                    0 / size of special data area                      \n",
       "GCOUNT  =                    1 / one data group (required keyword)              \n",
       "TFIELDS =                    5 / number of fields in each row                   \n",
       "TTYPE1  = 'RAWX    '           / X-position in Raw Detector coordinates         \n",
       "TFORM1  = '1B      '           / data format of field: BYTE                     \n",
       "TUNIT1  = 'pixel   '           / physical unit of field                         \n",
       "TTYPE2  = 'RAWY    '           / Y-position in Raw Detector coordinates         \n",
       "TFORM2  = '1B      '           / data format of field: BYTE                     \n",
       "TUNIT2  = 'pixel   '           / physical unit of field                         \n",
       "TTYPE3  = 'XEXTENT '           / Group lenght in X direction                    \n",
       "TFORM3  = '1B      '           / data format of field: BYTE                     \n",
       "TUNIT3  = 'pixel   '           / physical unit of field                         \n",
       "TTYPE4  = 'YEXTENT '           / Group lenght in Y direction                    \n",
       "TFORM4  = '1B      '           / data format of field: BYTE                     \n",
       "TUNIT4  = 'pixel   '           / physical unit of field                         \n",
       "TTYPE5  = 'RMFFILE '           / label for field   5                            \n",
       "TFORM5  = '40A     '           / data format of field: ASCII Character          \n",
       "TUNIT5  = '        '           / physical unit of field                         \n",
       "EXTNAME = 'GRPRMF  '           / Name of the binary table extension             \n",
       "EXTVER  =                    1 / There shall be one instance of this extension f\n",
       "DETNAM  = 'DET0    '           / CZT Detector ID (0,1,2 or 3)                   \n",
       "TELESCOP= 'NuSTAR  '           / Telescope (mission) name                       \n",
       "INSTRUME= 'FPMA    '           / Instrument name (FPMA or FPMB)                 \n",
       "ORIGIN  = 'Caltech   '         / Source of FITS file                            \n",
       "CREATOR = 'FTOOLS 6.12 '       / Creator                                        \n",
       "VERSION =                    2 / Extension version number                       \n",
       "FILENAME= 'nuAcutgrprmf20100101v002.fits' / File name                           \n",
       "CONTENT = 'NuSTAR RMF files grouping' / File content                            \n",
       "CCLS0001= 'CPF     '           / Daset is a Basic Calibration File              \n",
       "CDTP0001= 'DATA    '           / Calibration file contains data                 \n",
       "CCNM0001= 'GRPRMF  '           / Type of calibration data                       \n",
       "CBD10001= 'DEPTHCUT(NOMINAL)'  / Parameter Boundary                             \n",
       "CVSD0001= '2010-01-01'         / Date when this file should first be used       \n",
       "CVST0001= '00:00:00'           / Time of day when this file should first be used\n",
       "CDES0001= 'NuSTAR RMF files grouping' / Description                             \n",
       "COMMENT                                                                         \n",
       "COMMENT   This extension provides, for each detector of the Focal Plane Module, \n",
       "COMMENT   ...                                                                   \n",
       "COMMENT                                                                         \n",
       "CHECKSUM= 'np91po81no81no81'   / HDU checksum updated 2013-04-19T11:27:58       \n",
       "DATASUM = '3162078832'         / data unit checksum updated 2012-10-30T13:31:20 \n",
       "HISTORY File modified by user 'bwgref' with fv  on 2013-04-11T11:08:10          "
      ]
     },
     "execution_count": 48,
     "metadata": {},
     "output_type": "execute_result"
    }
   ],
   "source": [
    "# [0] PrimaryHDU\n",
    "# [1] to [4] are DET0 through DET3 in sequence\n",
    "grprmffh[idet + 1].header"
   ]
  },
  {
   "cell_type": "code",
   "execution_count": 45,
   "metadata": {},
   "outputs": [
    {
     "name": "stdout",
     "output_type": "stream",
     "text": [
      "CALDB files for DETABS FPMA DET0 2016-10-16T02:11:08:\n",
      "/usr/local/heasarc/CALDB/\n",
      "data/nustar/fpm/bcf/detabs/nuAdetabs20100101v001.fits\n",
      "data/nustar/fpm/bcf/detabs/nuAdetabs20100101v002.fits\n",
      "data/nustar/fpm/bcf/detabs/nuAdetabs20100101v003.fits ***SELECTED***\n"
     ]
    }
   ],
   "source": [
    "detabsfile = '%s/%s' %(\n",
    "    os.environ['CALDB'],\n",
    "    cal.getDETABS(evthdr['INSTRUME'], detnam, evthdr['DATE-OBS'])\n",
    ")"
   ]
  },
  {
   "cell_type": "code",
   "execution_count": 40,
   "metadata": {},
   "outputs": [],
   "source": [
    "detabsfh = pf.open(detabsfile)"
   ]
  },
  {
   "cell_type": "code",
   "execution_count": 41,
   "metadata": {},
   "outputs": [
    {
     "name": "stdout",
     "output_type": "stream",
     "text": [
      "Filename: /usr/local/heasarc/CALDB/data/nustar/fpm/bcf/detabs/nuAdetabs20100101v003.fits\n",
      "No.    Name      Ver    Type      Cards   Dimensions   Format\n",
      "  0  PRIMARY       1 PrimaryHDU      12   ()      \n",
      "  1  DETABS        1 BinTableHDU     39   4096R x 3C   [E, E, E]   \n",
      "  2  DETABS        2 BinTableHDU     39   4096R x 3C   [E, E, E]   \n",
      "  3  DETABS        3 BinTableHDU     39   4096R x 3C   [E, E, E]   \n",
      "  4  DETABS        4 BinTableHDU     39   4096R x 3C   [E, E, E]   \n"
     ]
    }
   ],
   "source": [
    "detabsfh.info()"
   ]
  },
  {
   "cell_type": "code",
   "execution_count": 47,
   "metadata": {
    "scrolled": true
   },
   "outputs": [
    {
     "data": {
      "text/plain": [
       "XTENSION= 'BINTABLE'           / binary table extension                         \n",
       "BITPIX  =                    8 / 8-bit bytes                                    \n",
       "NAXIS   =                    2 / 2-dimensional binary table                     \n",
       "NAXIS1  =                   12 / width of table in bytes                        \n",
       "NAXIS2  =                 4096 / number of rows in table                        \n",
       "PCOUNT  =                    0 / size of special data area                      \n",
       "GCOUNT  =                    1 / one data group (required keyword)              \n",
       "TFIELDS =                    3 / number of fields in each row                   \n",
       "TTYPE1  = 'ENERG_LO'           / low-energy bound                               \n",
       "TFORM1  = 'E       '           / data format of field: 4-byte REAL              \n",
       "TUNIT1  = 'keV     '           / physical unit of field                         \n",
       "TTYPE2  = 'ENERG_HI'           / high-energy boun                               \n",
       "TFORM2  = 'E       '           / data format of field: 4-byte REAL              \n",
       "TUNIT2  = 'keV     '           / physical unit of field                         \n",
       "TTYPE3  = 'DETABS  '           / detector absorption function                   \n",
       "TFORM3  = 'E       '           / data format of field: 4-byte REAL              \n",
       "EXTNAME = 'DETABS  '           / Name of the binary table extension             \n",
       "EXTVER  =                    1 / There shall be one instance of this extension f\n",
       "DETNAM  = 'DET0    '           / CZT Detector ID (0,1,2 or 3)                   \n",
       "TELESCOP= 'NuSTAR  '           / Telescope (mission) name                       \n",
       "INSTRUME= 'FPMA    '           / Instrument name (FPMA or FPMB)                 \n",
       "ORIGIN  = 'Caltech   '         / Source of FITS file                            \n",
       "CREATOR = 'FTOOLS 6.13 '       / Creator                                        \n",
       "VERSION =                    3 / Extension version number                       \n",
       "FILENAME= 'nuAdetabs20100101v003.fits' / File name                              \n",
       "CONTENT = 'NuSTAR Detector Absorption Coefficients' / File content              \n",
       "CCLS0001= 'BCF     '           / Daset is a Basic Calibration File              \n",
       "CDTP0001= 'DATA    '           / Calibration file contains data                 \n",
       "CCNM0001= 'DETABS  '           / Type of calibration data                       \n",
       "CVSD0001= '2010-01-01'         / Date when this file should first be used       \n",
       "CVST0001= '00:00:00'           / Time of day when this file should first be used\n",
       "CDES0001= 'NuSTAR Detector Absorption Coefficients' / Description               \n",
       "COMMENT                                                                         \n",
       "COMMENT   This extension provides, for each detector of the Focal Plane Module, \n",
       "COMMENT   the ARF absortpion coefficients used for the ARF correction           \n",
       "COMMENT                                                                         \n",
       "DATE    = '2016-05-25T10:36:40' / file creation date (YYYY-MM-DDThh:mm:ss UT)   \n",
       "CHECKSUM= 'TkYVTjVSTjVSTjVS'   / HDU checksum updated 2016-06-06T15:15:34       \n",
       "DATASUM = '3506915053'         / data unit checksum updated 2016-06-06T15:12:47 "
      ]
     },
     "execution_count": 47,
     "metadata": {},
     "output_type": "execute_result"
    }
   ],
   "source": [
    "# [0] PrimaryHDU\n",
    "# [1] to [4] are DET0 through DET3 in sequence\n",
    "detabsfh[idet + 1].header"
   ]
  },
  {
   "cell_type": "code",
   "execution_count": 50,
   "metadata": {},
   "outputs": [
    {
     "data": {
      "text/plain": [
       "ColDefs(\n",
       "    name = 'ENERG_LO'; format = 'E'; unit = 'keV'\n",
       "    name = 'ENERG_HI'; format = 'E'; unit = 'keV'\n",
       "    name = 'DETABS'; format = 'E'\n",
       ")"
      ]
     },
     "execution_count": 50,
     "metadata": {},
     "output_type": "execute_result"
    }
   ],
   "source": [
    "detabsfh[idet + 1].columns"
   ]
  },
  {
   "cell_type": "code",
   "execution_count": 51,
   "metadata": {},
   "outputs": [
    {
     "data": {
      "text/plain": [
       "ColDefs(\n",
       "    name = 'RAWX'; format = '1B'; unit = 'pixel'\n",
       "    name = 'RAWY'; format = '1B'; unit = 'pixel'\n",
       "    name = 'XEXTENT'; format = '1B'; unit = 'pixel'\n",
       "    name = 'YEXTENT'; format = '1B'; unit = 'pixel'\n",
       "    name = 'RMFFILE'; format = '40A'\n",
       ")"
      ]
     },
     "execution_count": 51,
     "metadata": {},
     "output_type": "execute_result"
    }
   ],
   "source": [
    "grprmffh[idet + 1].columns"
   ]
  },
  {
   "cell_type": "code",
   "execution_count": 52,
   "metadata": {},
   "outputs": [
    {
     "name": "stdout",
     "output_type": "stream",
     "text": [
      "4096 1\n"
     ]
    }
   ],
   "source": [
    "print(len(detabsfh[idet + 1].data), len(grprmffh[idet + 1].data))"
   ]
  },
  {
   "cell_type": "code",
   "execution_count": 54,
   "metadata": {},
   "outputs": [],
   "source": [
    "if len(grprmffh[idet + 1].data) > 1:\n",
    "    print('Warning: more than one file for GRPRMF %s found. Using first entry.' % detnam)"
   ]
  },
  {
   "cell_type": "code",
   "execution_count": 59,
   "metadata": {},
   "outputs": [],
   "source": [
    "rmffile = '%s/%s' % (\n",
    "    os.path.dirname(grprmffile),\n",
    "    grprmffh[idet + 1].data[0].field('RMFFILE')\n",
    ")"
   ]
  },
  {
   "cell_type": "code",
   "execution_count": 60,
   "metadata": {},
   "outputs": [],
   "source": [
    "rmffh = pf.open(rmffile)"
   ]
  },
  {
   "cell_type": "code",
   "execution_count": 61,
   "metadata": {},
   "outputs": [
    {
     "name": "stdout",
     "output_type": "stream",
     "text": [
      "Filename: /usr/local/heasarc/CALDB/data/nustar/fpm/cpf/rmf/nuAcutdet0_20100101v001.rmf\n",
      "No.    Name      Ver    Type      Cards   Dimensions   Format\n",
      "  0  PRIMARY       1 PrimaryHDU      10   ()      \n",
      "  1  MATRIX        1 BinTableHDU     55   4096R x 6C   [E, E, I, 1I, 1I, 4096E]   \n",
      "  2  EBOUNDS       1 BinTableHDU     49   4096R x 3C   [J, E, E]   \n"
     ]
    }
   ],
   "source": [
    "rmffh.info()"
   ]
  },
  {
   "cell_type": "code",
   "execution_count": 73,
   "metadata": {},
   "outputs": [],
   "source": [
    "absmatrix = rmffh['MATRIX'].data.field('MATRIX') * detabsfh[idet + 1].data.field('DETABS')"
   ]
  },
  {
   "cell_type": "code",
   "execution_count": 76,
   "metadata": {
    "scrolled": true
   },
   "outputs": [
    {
     "data": {
      "text/plain": [
       "XTENSION= 'BINTABLE'           / binary table extension                         \n",
       "BITPIX  =                    8 / 8-bit bytes                                    \n",
       "NAXIS   =                    2 / 2-dimensional binary table                     \n",
       "NAXIS1  =                16398 / width of table in bytes                        \n",
       "NAXIS2  =                 4096 / number of rows in table                        \n",
       "PCOUNT  =                    0 / size of special data area                      \n",
       "GCOUNT  =                    1 / one data group (required keyword)              \n",
       "TFIELDS =                    6 / number of fields in each row                   \n",
       "TTYPE1  = 'ENERG_LO'           / label for field   1                            \n",
       "TFORM1  = 'E       '           / data format of field: 4-byte REAL              \n",
       "TUNIT1  = 'keV     '           / physical unit of field                         \n",
       "TTYPE2  = 'ENERG_HI'           / label for field   2                            \n",
       "TFORM2  = 'E       '           / data format of field: 4-byte REAL              \n",
       "TUNIT2  = 'keV     '           / physical unit of field                         \n",
       "TTYPE3  = 'N_GRP   '           / label for field   3                            \n",
       "TFORM3  = 'I       '           / data format of field: 2-byte INTEGER           \n",
       "TTYPE4  = 'F_CHAN  '           / label for field   4                            \n",
       "TFORM4  = '1I      '           / data format of field: 2-byte INTEGER           \n",
       "TTYPE5  = 'N_CHAN  '           / label for field   5                            \n",
       "TFORM5  = '1I      '           / data format of field: 2-byte INTEGER           \n",
       "TTYPE6  = 'MATRIX  '           / label for field   6                            \n",
       "TFORM6  = '4096E   '           / data format of field: 4-byte real              \n",
       "TLMIN4  = '0       '           / Minimum value legally allowed in column 4      \n",
       "TLMAX4  = '4095    '           / Maximum value legally allowed in column 4      \n",
       "EXTNAME = 'MATRIX  '           / name of this binary table extension            \n",
       "TELESCOP= 'NuSTAR  '           / Telescope (mission) name                       \n",
       "INSTRUME= 'FPMA    '           / Instrument name (FPMA or FPMB)                 \n",
       "DETCHANS=                 4096 / Number of channels in rmf                      \n",
       "CHANTYPE= 'PI      '           / Channel type                                   \n",
       "HDUCLASS= 'OGIP    '           / format conforms to OGIP standard               \n",
       "HDUCLAS1= 'RESPONSE'           / dataset is response function                   \n",
       "HDUVERS1= '1.0.0   '           / version of HDUCLAS1 format                     \n",
       "HDUCLAS2= 'RSP_MATRIX'         / Extension contains an RMF                      \n",
       "HDUVERS2= '1.3.0   '           / version of HDUCLAS2 format                     \n",
       "HDUCLAS3= 'REDIST  '           / details of matrix                              \n",
       "HDUVERS = '1.3.0   '           / OGIP version number                            \n",
       "RMFVERSN= '1992a   '           / OGIP classification of FITS format             \n",
       "CCLS0001= 'CPF     '           / Daset is a Calibration Product File            \n",
       "CCNM0001= 'MATRIX  '           / Type of Calibration data                       \n",
       "CDTP0001= 'DATA    '           / Calibration file contains data                 \n",
       "CBD10001= 'RAWX(0- 31)'        / Parameter Boundary                             \n",
       "CVSD0001= '2010-01-01'         / UCT date when file should first be used        \n",
       "CVST0001= '00:00:00'           / UCT time when file should first be used        \n",
       "VERSION =                    1 / Extension version number                       \n",
       "FILENAME= 'nuAcutdet0_20100101v001.rmf' / File name                             \n",
       "CREATOR = 'NuSTAR team'        / Creator                                        \n",
       "ORIGIN  = 'Caltech '           / Source of FITS file                            \n",
       "CHECKSUM= '1KJM2H9K1HGK1H9K'   / HDU checksum updated 2012-10-29T17:58:35       \n",
       "DATASUM = '2151365126'         / data unit checksum updated 2012-09-03T20:31:11 \n",
       "DETNAM  = 'DET0    '           / CZT Detector ID (0,1,2 or 3)                   \n",
       "CDES0001= 'NuSTAR FPMA Response Matrix' / Description                           \n",
       "CBD20001= 'RAWY(0- 31)'        / Parameter Boundary                             \n",
       "CBD30001= 'ENERG(1-150)keV'    / Parameter boundaries                           \n",
       "DATE    = '2012-10-29T00:19:22' / file creation date (YYYY-MM-DDThh:mm:ss UT)   \n",
       "CBD40001= 'DEPTHCUT(NOMINAL)'  / Parameter Boundary                             "
      ]
     },
     "execution_count": 76,
     "metadata": {},
     "output_type": "execute_result"
    }
   ],
   "source": [
    "rmffh['MATRIX'].header"
   ]
  },
  {
   "cell_type": "markdown",
   "metadata": {},
   "source": [
    "# Modify the CALDB RMF file, update some header keywords, then write to auxil dir"
   ]
  },
  {
   "cell_type": "code",
   "execution_count": 77,
   "metadata": {},
   "outputs": [],
   "source": [
    "absrmffh = pf.open(rmffile)"
   ]
  },
  {
   "cell_type": "code",
   "execution_count": 83,
   "metadata": {
    "scrolled": true
   },
   "outputs": [
    {
     "data": {
      "text/plain": [
       "XTENSION= 'BINTABLE'           / binary table extension                         \n",
       "BITPIX  =                    8 / 8-bit bytes                                    \n",
       "NAXIS   =                    2 / 2-dimensional binary table                     \n",
       "NAXIS1  =                   12 / width of table in bytes                        \n",
       "NAXIS2  =                 4096 / number of rows in table                        \n",
       "PCOUNT  =                    0 / size of special data area                      \n",
       "GCOUNT  =                    1 / one data group (required keyword)              \n",
       "TFIELDS =                    3 / number of fields in each row                   \n",
       "TTYPE1  = 'CHANNEL '           / label for field   1                            \n",
       "TFORM1  = 'J       '           / data format of field: 2-byte INTEGER           \n",
       "TUNIT1  = 'chan    '           / physical unit of field                         \n",
       "TTYPE2  = 'E_MIN   '           / label for field   2                            \n",
       "TFORM2  = 'E       '           / data format of field: 4-byte REAL              \n",
       "TUNIT2  = 'keV     '           / physical unit of field                         \n",
       "TTYPE3  = 'E_MAX   '           / label for field   3                            \n",
       "TFORM3  = 'E       '           / data format of field: 4-byte REAL              \n",
       "TUNIT3  = 'keV     '           / physical unit of field                         \n",
       "TLMIN1  = '0       '           / Minimum value legally allowed in column 1      \n",
       "TLMAX1  = '4095    '           / Maximum value legally allowed in column 1      \n",
       "EXTNAME = 'EBOUNDS '           / name of this binary table extension            \n",
       "TELESCOP= 'NuSTAR  '           / Telescope (mission) name                       \n",
       "INSTRUME= 'FPMA    '           / Instrument name (FPMA or FPMB)                 \n",
       "DETCHANS=                 4096 / Number of channels in ebd                      \n",
       "CHANTYPE= 'PI      '           / Channel type                                   \n",
       "HDUCLASS= 'OGIP    '           / format conforms to OGIP standard               \n",
       "HDUCLAS1= 'RESPONSE'           / dataset is response function                   \n",
       "HDUVERS1= '1.0.0   '           / version of HDUCLAS1 format                     \n",
       "HDUCLAS2= 'EBOUNDS '           / Extension contains EBOUNDS                     \n",
       "HDUVERS2= '1.3.0   '           / version of HDUCLAS2 format                     \n",
       "HDUVERS = '1.3.0   '           / OGIP version number                            \n",
       "RMFVERSN= '1992a   '           / OGIP classification of FITS format             \n",
       "CCLS0001= 'CPF     '           / Daset is a Calibration Product File            \n",
       "CCNM0001= 'EBOUNDS '           / Type of Calibration data                       \n",
       "CDTP0001= 'DATA    '           / Calibration file contains data                 \n",
       "CBD10001= 'RAWX(0- 31)'        / Parameter Boundary                             \n",
       "CVSD0001= '2010-01-01'         / UCT date when file should first be used        \n",
       "CVST0001= '00:00:00'           / UCT time when file should first be used        \n",
       "VERSION =                    1 / Extension version number                       \n",
       "FILENAME= 'nuAcutdet0_20100101v001.rmf' / File name                             \n",
       "CREATOR = 'NuSTAR team'        / Creator                                        \n",
       "ORIGIN  = 'Caltech '           / Source of FITS file                            \n",
       "CHECKSUM= '0aHY0W9W0aGW0U9W'   / HDU checksum updated 2012-10-29T17:58:35       \n",
       "DATASUM = '40097624'           / data unit checksum updated 2012-09-03T20:31:12 \n",
       "DETNAM  = 'DET0    '           / CZT Detector ID (0,1,2 or 3)                   \n",
       "CDES0001= 'NuSTAR FPMA Response Matrix' / Description                           \n",
       "CBD20001= 'RAWY(0- 31)'        / Parameter Boundary                             \n",
       "CBD30001= 'ENERG(1-150)keV'    / Parameter boundaries                           \n",
       "DATE    = '2012-10-29T00:19:22' / file creation date (YYYY-MM-DDThh:mm:ss UT)   \n",
       "CBD40001= 'DEPTHCUT(NOMINAL)'  / Parameter Boundary                             "
      ]
     },
     "execution_count": 83,
     "metadata": {},
     "output_type": "execute_result"
    }
   ],
   "source": [
    "absrmffh[2].header"
   ]
  },
  {
   "cell_type": "code",
   "execution_count": 84,
   "metadata": {},
   "outputs": [],
   "source": [
    "timestamp = datetime.datetime.utcnow().strftime('%Y-%m-%dT%H:%M:%S')\n",
    "absrmffh[0].header['DATE'] = (\n",
    "        timestamp,\n",
    "        'File creation date (YYYY-MM-DDThh:mm:ss UTC)'\n",
    ")\n",
    "absrmffh[1].header['DATE'] = (\n",
    "        timestamp,\n",
    "        'File creation date (YYYY-MM-DDThh:mm:ss UTC)'\n",
    ")\n",
    "absrmffh[1].header['HISTORY'] = (\n",
    "    'RMF multiplied by DETABS using files %s and %s' % (\n",
    "        rmffile, detabsfile\n",
    "    )\n",
    ")"
   ]
  },
  {
   "cell_type": "code",
   "execution_count": 100,
   "metadata": {},
   "outputs": [],
   "source": [
    "absrmffh['MATRIX'].data['MATRIX'] = absmatrix"
   ]
  },
  {
   "cell_type": "code",
   "execution_count": 103,
   "metadata": {},
   "outputs": [],
   "source": [
    "# absrmffh.writeto('det%d%s.rmf' % (idet, evthdr['INSTRUME'][-1]), checksum=True)"
   ]
  },
  {
   "cell_type": "code",
   "execution_count": null,
   "metadata": {},
   "outputs": [],
   "source": []
  },
  {
   "cell_type": "code",
   "execution_count": null,
   "metadata": {},
   "outputs": [],
   "source": []
  },
  {
   "cell_type": "markdown",
   "metadata": {},
   "source": [
    "# The above, in a function"
   ]
  },
  {
   "cell_type": "code",
   "execution_count": 11,
   "metadata": {},
   "outputs": [],
   "source": [
    "def make_absrmf(evtfile, outfile,\n",
    "                rmffile='CALDB', detabsfile='CALDB',\n",
    "                overwrite=False):\n",
    "    evtfh = pf.open(evtfile)\n",
    "    evthdr = evtfh['EVENTS'].header\n",
    "    ab = evthdr['INSTRUME'][-1]\n",
    "    cal = caldb.CalDB(os.environ['CALDB'])\n",
    "\n",
    "    outfilename = outfile + '%d%s.rmf'\n",
    "    # Check if output files exist\n",
    "    halt = False\n",
    "    for idet in range(4):\n",
    "        if os.path.exists(outfilename % (idet, ab)):\n",
    "            print('File exists: %s' % outfilename % (idet, ab))\n",
    "            halt = True\n",
    "    if halt:\n",
    "        if not overwrite:\n",
    "            return False\n",
    "        else:\n",
    "            print('Overwriting existing files...')\n",
    "    \n",
    "    # Looks up rmf files and detabs files\n",
    "    rmflist = []\n",
    "    if rmffile == 'CALDB':\n",
    "        for idet in range(4):\n",
    "            detnam = 'DET%d' % idet\n",
    "            grprmffile = '%s/%s' % (\n",
    "                os.environ['CALDB'],\n",
    "                cal.getGRPRMF(evthdr['INSTRUME'], detnam, evthdr['DATE-OBS'])\n",
    "            )\n",
    "            grprmffh = pf.open(grprmffile)\n",
    "            if len(grprmffh[idet + 1].data) > 1:\n",
    "                print('Warning: more than one file for GRPRMF %s found. '\n",
    "                      'Using first entry.' % detnam)\n",
    "            rmflist.append('%s/%s' % (\n",
    "                os.path.dirname(grprmffile),\n",
    "                grprmffh[idet + 1].data[0].field('RMFFILE')\n",
    "            ))\n",
    "    else:\n",
    "        rmflist = [rmffile] * 4\n",
    "    \n",
    "    detabslist = []\n",
    "    if detabsfile == 'CALDB':\n",
    "        for idet in range(4):\n",
    "            detnam = 'DET%d' % idet\n",
    "            detabslist.append('%s/%s' % (\n",
    "                os.environ['CALDB'],\n",
    "                cal.getDETABS(evthdr['INSTRUME'], detnam, evthdr['DATE-OBS'])\n",
    "            ))\n",
    "    else:\n",
    "        detabslist = [detabsfile] * 4\n",
    "    \n",
    "    # Print the files used\n",
    "    print('Calibration files used:')\n",
    "    for _ in zip([0, 1, 2, 3], rmflist, detabslist):\n",
    "        print('DET%d %s %s' % (_[0], _[1], _[2]))\n",
    "    \n",
    "    for idet in range(4):\n",
    "        rmffh = pf.open(rmflist[idet])\n",
    "        detabsfh = pf.open(detabslist[idet])\n",
    "\n",
    "        absmatrix = (rmffh['MATRIX'].data.field('MATRIX') *\n",
    "                     detabsfh[idet + 1].data.field('DETABS'))\n",
    "\n",
    "        # Create the output file\n",
    "        absrmffh = pf.open(rmflist[0])\n",
    "        timestamp = datetime.datetime.utcnow().strftime('%Y-%m-%dT%H:%M:%S')\n",
    "        absrmffh[0].header['DATE'] = (\n",
    "            timestamp,\n",
    "            'File creation date (YYYY-MM-DDThh:mm:ss UTC)'\n",
    "        )\n",
    "        absrmffh[1].header['DATE'] = (\n",
    "            timestamp,\n",
    "            'File creation date (YYYY-MM-DDThh:mm:ss UTC)'\n",
    "        )\n",
    "        absrmffh[1].header['HISTORY'] = (\n",
    "            'RMF multiplied by DETABS using files %s and %s' % (\n",
    "                rmffile, detabsfile\n",
    "            )\n",
    "        )\n",
    "        absrmffh['MATRIX'].data['MATRIX'] = absmatrix\n",
    "        absrmffh.writeto(outfilename % (idet, ab),\n",
    "                         checksum=True, overwrite=overwrite)\n",
    "        \n",
    "    return True"
   ]
  },
  {
   "cell_type": "code",
   "execution_count": 13,
   "metadata": {},
   "outputs": [],
   "source": [
    "evtfile = '/Users/qw/astro/nustar/IC342_X1/90201039002/event_cl/nu90201039002A01_cl.evt'"
   ]
  },
  {
   "cell_type": "code",
   "execution_count": 14,
   "metadata": {},
   "outputs": [
    {
     "name": "stdout",
     "output_type": "stream",
     "text": [
      "File exists: det0A.rmf\n",
      "File exists: det1A.rmf\n",
      "File exists: det2A.rmf\n",
      "File exists: det3A.rmf\n",
      "Overwriting existing files...\n",
      "Calibration files used:\n",
      "DET0 /usr/local/heasarc/CALDB/data/nustar/fpm/cpf/rmf/nuAcutdet0_20100101v001.rmf /usr/local/heasarc/CALDB/data/nustar/fpm/bcf/detabs/nuAdetabs20100101v003.fits\n",
      "DET1 /usr/local/heasarc/CALDB/data/nustar/fpm/cpf/rmf/nuAcutdet1_20100101v001.rmf /usr/local/heasarc/CALDB/data/nustar/fpm/bcf/detabs/nuAdetabs20100101v003.fits\n",
      "DET2 /usr/local/heasarc/CALDB/data/nustar/fpm/cpf/rmf/nuAcutdet2_20100101v001.rmf /usr/local/heasarc/CALDB/data/nustar/fpm/bcf/detabs/nuAdetabs20100101v003.fits\n",
      "DET3 /usr/local/heasarc/CALDB/data/nustar/fpm/cpf/rmf/nuAcutdet3_20100101v002.rmf /usr/local/heasarc/CALDB/data/nustar/fpm/bcf/detabs/nuAdetabs20100101v003.fits\n"
     ]
    },
    {
     "data": {
      "text/plain": [
       "True"
      ]
     },
     "execution_count": 14,
     "metadata": {},
     "output_type": "execute_result"
    }
   ],
   "source": [
    "make_absrmf(evtfile, 'det', rmffile='CALDB', detabsfile='CALDB', overwrite=True)"
   ]
  },
  {
   "cell_type": "code",
   "execution_count": 15,
   "metadata": {},
   "outputs": [
    {
     "data": {
      "text/plain": [
       "'/Users/qw/astro/nustar/nuskybgd-py'"
      ]
     },
     "execution_count": 15,
     "metadata": {},
     "output_type": "execute_result"
    }
   ],
   "source": [
    "pwd\n"
   ]
  },
  {
   "cell_type": "code",
   "execution_count": null,
   "metadata": {},
   "outputs": [],
   "source": []
  }
 ],
 "metadata": {
  "kernelspec": {
   "display_name": "Python 3",
   "language": "python",
   "name": "python3"
  },
  "language_info": {
   "codemirror_mode": {
    "name": "ipython",
    "version": 3
   },
   "file_extension": ".py",
   "mimetype": "text/x-python",
   "name": "python",
   "nbconvert_exporter": "python",
   "pygments_lexer": "ipython3",
   "version": "3.7.3"
  }
 },
 "nbformat": 4,
 "nbformat_minor": 2
}
