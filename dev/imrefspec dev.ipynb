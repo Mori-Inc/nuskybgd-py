{
 "cells": [
  {
   "cell_type": "code",
   "execution_count": 1,
   "metadata": {},
   "outputs": [],
   "source": [
    "\"\"\"\n",
    "Creates reference spectra of the 3 soft bgd components, used by\n",
    "nuskybgd_image, to produce counts images for arbitrary energy bands.  Only\n",
    "needs to be run once unless the nuabs parameters change in the auxil\n",
    "directory.\n",
    "\n",
    "Required files:\n",
    "\n",
    "RMF files that include detector absorption (see absrmf.py).\n",
    "\n",
    "Output:\n",
    "\n",
    "Simulated spectra using Xspec's fakeit, plus an Xspec save file (.xcm) that\n",
    "can be used to remake them in Xspec.\n",
    "\"\"\"\n",
    "import xspec"
   ]
  },
  {
   "cell_type": "code",
   "execution_count": 15,
   "metadata": {},
   "outputs": [],
   "source": [
    "# CXB params, from Boldt '87\n",
    "cxb_pl = 1.29\n",
    "cxb_norm = 0.002353\n",
    "cxb_ecut = 41.13\n",
    "\n",
    "# Simulated exposure time (assumed elsewhere, do not change!)\n",
    "texp = 1.0e9\n",
    "\n",
    "################## Not in use #######################\n",
    "# Soft neutron component photon index\n",
    "neutpl = 4.8\n",
    "\n",
    "# GRXE params\n",
    "glenergy = 6.7\n",
    "wdmass = 0.6\n",
    "#####################################################"
   ]
  },
  {
   "cell_type": "code",
   "execution_count": 3,
   "metadata": {},
   "outputs": [],
   "source": [
    "import os"
   ]
  },
  {
   "cell_type": "code",
   "execution_count": 4,
   "metadata": {},
   "outputs": [],
   "source": [
    "os.chdir('/Users/qw/astro/nustar/IC342_X1/90201039002/event_cl/bgd')"
   ]
  },
  {
   "cell_type": "code",
   "execution_count": 21,
   "metadata": {},
   "outputs": [],
   "source": [
    "auxil = '/Users/qw/astro/nustar/nuskybgd-idl/auxil'"
   ]
  },
  {
   "cell_type": "code",
   "execution_count": 8,
   "metadata": {},
   "outputs": [
    {
     "name": "stdout",
     "output_type": "stream",
     "text": [
      "det0A.rmf  det1A.rmf  det2A.rmf  det3A.rmf\r\n",
      "det0B.rmf  det1B.rmf  det2B.rmf  det3B.rmf\r\n"
     ]
    }
   ],
   "source": [
    "ls det??.rmf"
   ]
  },
  {
   "cell_type": "raw",
   "metadata": {},
   "source": [
    "XSPEC12>fakeit none\n",
    "For fake spectrum #1 response file is needed: det0A.rmf\n",
    "   ...and ancillary file: /Users/qw/astro/nustar/nuskybgd-idl/auxil/be.arf\n",
    " Use counting statistics in creating fake data? (y): no\n",
    " Input optional fake file prefix: \n",
    " Fake data file name (det0A.fak): aperbgdA_det0.pha\n",
    " Exposure time, correction norm, bkg exposure time (1.00000, 1.00000, 1.00000): 1.0e9\n",
    "\n",
    "No background will be applied to fake spectrum #1"
   ]
  },
  {
   "cell_type": "code",
   "execution_count": 12,
   "metadata": {},
   "outputs": [],
   "source": [
    "m = xspec.Model('cutoffpl')"
   ]
  },
  {
   "cell_type": "code",
   "execution_count": 16,
   "metadata": {},
   "outputs": [],
   "source": [
    "m.cutoffpl.PhoIndex = cxb_pl\n",
    "m.cutoffpl.HighECut = cxb_ecut\n",
    "m.cutoffpl.norm = cxb_norm"
   ]
  },
  {
   "cell_type": "code",
   "execution_count": 17,
   "metadata": {},
   "outputs": [],
   "source": [
    "xspec.AllModels.show()"
   ]
  },
  {
   "cell_type": "code",
   "execution_count": 36,
   "metadata": {},
   "outputs": [],
   "source": [
    "for idet in range(4):\n",
    "    for ab in ('A', 'B'):\n",
    "        # If there is existing spectrum loaded, RMF and ARF in FakeSettings \n",
    "        # will be ignored (the 'from existing spectra' flow). We need to do\n",
    "        # the 'from scratch' flow.\n",
    "        xspec.AllData.clear()\n",
    "        \n",
    "        fakesettings_ap = xspec.FakeitSettings(\n",
    "            response='det%d%s.rmf' % (idet, ab),\n",
    "            arf='%s/be.arf' % auxil,\n",
    "            exposure=texp,\n",
    "            correction=0.0,\n",
    "            fileName='aperbgd%s_det%d.pha' % (ab, idet)\n",
    "        )\n",
    "        fakesettings_fcxb = xspec.FakeitSettings(\n",
    "            response='det%d%s.rmf' % (idet, ab),\n",
    "            arf='%s/fcxb%s.arf' % (auxil, ab),\n",
    "            exposure=texp,\n",
    "            correction=0.0,\n",
    "            fileName='fcxbbgd%s_det%d.pha' % (ab, idet)\n",
    "        )\n",
    "        xspec.AllData.fakeit(\n",
    "        nSpectra=2,\n",
    "        settings=[fakesettings_ap, fakesettings_fcxb],\n",
    "        applyStats=False,\n",
    "        filePrefix='')"
   ]
  },
  {
   "cell_type": "code",
   "execution_count": 34,
   "metadata": {},
   "outputs": [],
   "source": []
  },
  {
   "cell_type": "code",
   "execution_count": null,
   "metadata": {},
   "outputs": [],
   "source": []
  }
 ],
 "metadata": {
  "kernelspec": {
   "display_name": "Python 3",
   "language": "python",
   "name": "python3"
  },
  "language_info": {
   "codemirror_mode": {
    "name": "ipython",
    "version": 3
   },
   "file_extension": ".py",
   "mimetype": "text/x-python",
   "name": "python",
   "nbconvert_exporter": "python",
   "pygments_lexer": "ipython3",
   "version": "3.7.3"
  }
 },
 "nbformat": 4,
 "nbformat_minor": 2
}
