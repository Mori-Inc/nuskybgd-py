{
 "cells": [
  {
   "cell_type": "code",
   "execution_count": 1,
   "metadata": {},
   "outputs": [],
   "source": [
    "import xspec"
   ]
  },
  {
   "cell_type": "code",
   "execution_count": 37,
   "metadata": {},
   "outputs": [],
   "source": [
    "import os\n",
    "import numpy as np\n",
    "import scipy\n",
    "import scipy.ndimage\n",
    "import astropy.io.fits as pf\n",
    "import datetime"
   ]
  },
  {
   "cell_type": "code",
   "execution_count": 3,
   "metadata": {},
   "outputs": [],
   "source": [
    "os.chdir('/home/qw/astro/soft/nuskybgd')"
   ]
  },
  {
   "cell_type": "code",
   "execution_count": 4,
   "metadata": {},
   "outputs": [
    {
     "name": "stdout",
     "output_type": "stream",
     "text": [
      "\u001b[0m\u001b[01;32mabsrmf.py\u001b[0m*  \u001b[01;32mfitab.py\u001b[0m*         \u001b[01;32minstrmap.py\u001b[0m*      \u001b[01;32mprojobs.py\u001b[0m*\r\n",
      "\u001b[01;32mcaldb.py\u001b[0m*   \u001b[01;32mgetspecnoarf.py\u001b[0m*  \u001b[01;32mphafix.py\u001b[0m*        \u001b[34m__pycache__\u001b[0m/\r\n",
      "\u001b[34mdev\u001b[0m/        \u001b[01;32mimrefspec.py\u001b[0m*     \u001b[01;32mprojinitbgds.py\u001b[0m*  README\r\n"
     ]
    }
   ],
   "source": [
    "ls"
   ]
  },
  {
   "cell_type": "code",
   "execution_count": 5,
   "metadata": {},
   "outputs": [],
   "source": [
    "import caldb"
   ]
  },
  {
   "cell_type": "code",
   "execution_count": 6,
   "metadata": {},
   "outputs": [],
   "source": [
    "cal = caldb.CalDB(os.environ['CALDB'])"
   ]
  },
  {
   "cell_type": "code",
   "execution_count": 29,
   "metadata": {},
   "outputs": [],
   "source": [
    "# grade weighting from NGC253 002 obs.\n",
    "GRADE_WT = [1.00000, 0.124902, 0.117130, 0.114720, 0.118038,\n",
    "            0.0114296, 0.0101738, 0.0113617, 0.0122017, 0.0157910,\n",
    "            0.0144079, 0.0145691, 0.0149934, 0.00165462, 0.00194312,\n",
    "            0.00156128, 0.00143400, 0.00210433, 0.00180735, 0.00140006,\n",
    "            0.00169704, 0.00189220, 0.00160371, 0.00150188, 0.00168007,\n",
    "            0.000296983, 0.000364864]\n",
    "\n",
    "DETNAM = {'DET0': 0, 'DET1': 1, 'DET2': 2, 'DET3': 3}\n",
    "\n",
    "def shift_image(image, delta):\n",
    "    return scipy.ndimage.shift(image, delta,\n",
    "                               mode='wrap', prefilter=False, order=1)\n",
    "\n",
    "def get_caldb_pixpos(evthdr):\n",
    "    fpm = evthdr['INSTRUME']\n",
    "    obsutctime = evthdr['DATE-OBS']\n",
    "    cal = caldb.CalDB(os.environ['CALDB'])\n",
    "    pixpospath = cal.getPIXPOS(fpm, 'DET0', obsutctime)\n",
    "\n",
    "    pixposf = pf.open('%s/%s' % (os.environ['CALDB'], pixpospath))\n",
    "\n",
    "    pixmap = np.full((360, 360), -1, dtype=np.int32)\n",
    "    detnum = np.full((360, 360), -1, dtype=np.int32)\n",
    "    allpdf = np.zeros((360, 360), dtype=np.float64)\n",
    "\n",
    "    for ext in pixposf:\n",
    "        if (('EXTNAME' not in ext.header) or\n",
    "            ('PIXPOS' not in ext.header['EXTNAME']) or\n",
    "                ('DETNAM' not in ext.header)):\n",
    "            continue\n",
    "        idet = int(ext.header['DETNAM'].replace('DET', ''))\n",
    "        pixpos = ext.data\n",
    "        for ix in np.arange(32):\n",
    "            for iy in np.arange(32):\n",
    "                # Get array indices where all of the following are True\n",
    "                ii = np.where((pixpos.field('REF_DET1X') != -1) *\n",
    "                              (pixpos.field('RAWX') == ix) *\n",
    "                              (pixpos.field('RAWY') == iy) *\n",
    "                              (pixpos.field('GRADE') <= 26))[0]\n",
    "\n",
    "                thispdf = np.zeros((360, 360), dtype=np.float64)\n",
    "\n",
    "                for i in ii:\n",
    "                    if not np.isnan(pixpos.field('PDF')[i]).any():\n",
    "                        # No nan value in PDF\n",
    "                        ref_x = pixpos.field('REF_DET1X')[i]\n",
    "                        ref_y = pixpos.field('REF_DET1Y')[i]\n",
    "                        thispdf[ref_y:ref_y + 7, ref_x:ref_x + 7] += (\n",
    "                            pixpos.field('PDF')[i] *\n",
    "                            GRADE_WT[pixpos.field('GRADE')[i]])\n",
    "\n",
    "                ii = np.where(thispdf > allpdf)\n",
    "                if len(ii) > 0:\n",
    "                    allpdf[ii] = thispdf[ii]\n",
    "                    pixmap[ii] = ix + iy * 32\n",
    "                    detnum[ii] = idet\n",
    "\n",
    "    pixmap = shift_image(pixmap, [-1, -1])\n",
    "    detnum = shift_image(detnum, [-1, -1])\n",
    "\n",
    "    return pixmap, detnum"
   ]
  },
  {
   "cell_type": "code",
   "execution_count": 44,
   "metadata": {},
   "outputs": [],
   "source": [
    "def get_caldb_instrmap(evthdr):\n",
    "    \"\"\"\n",
    "    Get instrument map image from CALDB, shifted by (-1, -1).\n",
    "\n",
    "    Returns (image, FITS header).\n",
    "    \"\"\"\n",
    "    fpm = evthdr['INSTRUME']\n",
    "    obsutctime = evthdr['DATE-OBS']\n",
    "\n",
    "    cal = caldb.CalDB(os.environ['CALDB'])\n",
    "    imappath = cal.getINSTRMAP(fpm, obsutctime)\n",
    "    imapf = pf.open('%s/%s' % (os.environ['CALDB'], imappath))\n",
    "    try:\n",
    "        imap = imapf['INSTRMAP'].data\n",
    "    except KeyError:\n",
    "        print('Error: INSTRMAP extension not found.')\n",
    "        return False\n",
    "    hdr = imapf['INSTRMAP'].header\n",
    "    hdr['HISTORY'] = nuskybgd_timestamp()\n",
    "    hdr['HISTORY'] = 'Created inst. map from %s' % os.path.basename(imappath)\n",
    "    return imap, hdr\n",
    "\n",
    "def nuskybgd_timestamp():\n",
    "    return ('%s nuskybgd' %\n",
    "            datetime.datetime.now().strftime('%Y-%m-%d %H:%M:%S'))\n"
   ]
  },
  {
   "cell_type": "code",
   "execution_count": 25,
   "metadata": {},
   "outputs": [],
   "source": [
    "def get_badpix_exts(bpixfiles):\n",
    "    # Collect list of bad pixel extensions, group into FPMA and B\n",
    "    bpixlist = {'A': [], 'B': []}\n",
    "    for _ in bpixfiles:\n",
    "        ff = pf.open(_)\n",
    "        # Check FPM\n",
    "        phdr = ff[0].header\n",
    "        try:\n",
    "            if phdr['TELESCOP'] != 'NuSTAR':\n",
    "                print('%s: TELESCOP != NuSTAR, skipping.' % _)\n",
    "                continue\n",
    "        except KeyError:\n",
    "            print('%s: no TELESCOP keyword, skipping.' % _)\n",
    "            continue\n",
    "\n",
    "        try:\n",
    "            if phdr['INSTRUME'] == 'FPMA':\n",
    "                ab = 'A'\n",
    "            elif phdr['INSTRUME'] == 'FPMB':\n",
    "                ab = 'B'\n",
    "            else:\n",
    "                print('%s: unknown INSTRUME: %s' % (_, phdr['INSTRUME']))\n",
    "                continue\n",
    "        except KeyError:\n",
    "            print('%s: no INSTRUME keyword, skipping.' % _)\n",
    "            continue\n",
    "\n",
    "        for ext in ff[1:]:\n",
    "            try:\n",
    "                ehdr = ext.header\n",
    "                if not (ehdr['XTENSION'] == 'BINTABLE' and\n",
    "                        'BADPIX' in ehdr['EXTNAME']):\n",
    "                    continue\n",
    "                if ehdr['DETNAM'] in DETNAM:\n",
    "                    bpixlist[ab].append(ext)\n",
    "                    print('Added %s %s %s to list.' % (_, ab, ehdr['DETNAM']))\n",
    "                else:\n",
    "                    print('%s: unknown DETNAM: %s' % (_, ehdr['DETNAM']))\n",
    "                    continue\n",
    "            except KeyError:\n",
    "                # Extension does not have XTENSION, EXTNAME or DETNAM\n",
    "                continue\n",
    "\n",
    "    return bpixlist"
   ]
  },
  {
   "cell_type": "code",
   "execution_count": 24,
   "metadata": {},
   "outputs": [],
   "source": [
    "def apply_badpix(instrmap, bpixexts, pixmap, detnum):\n",
    "    output = 1. * instrmap\n",
    "\n",
    "    for ext in bpixexts:\n",
    "        hh = ext.header\n",
    "        if ('TSTART' in hh and 'TSTOP' in hh):\n",
    "            tobs = hh['TSTOP'] - hh['TSTART']\n",
    "        else:\n",
    "            tobs = None\n",
    "\n",
    "        if not ('EXTNAME' in ext.header and\n",
    "                'BADPIX' in ext.header['EXTNAME'] and\n",
    "                'DETNAM' in ext.header and\n",
    "                ext.header['DETNAM'] in DETNAM):\n",
    "            continue\n",
    "\n",
    "        idet = DETNAM[ext.header['DETNAM']]\n",
    "        print(idet)\n",
    "        badpix = ext.data\n",
    "\n",
    "        x = badpix.field('RAWX')\n",
    "        y = badpix.field('RAWY')\n",
    "        flags = badpix.field('BADFLAG')\n",
    "        if tobs is not None:\n",
    "            dt = badpix.field('TIME_STOP') - badpix.field('TIME')\n",
    "\n",
    "        for i in np.arange(len(x)):\n",
    "            if ((tobs is not None and dt[i] > 0.8 * tobs) or\n",
    "                    flags[i][-2] is True):\n",
    "                ii = np.where((pixmap == x[i] + y[i] * 32) *\n",
    "                              (detnum == idet))\n",
    "                output[ii] = 0\n",
    "\n",
    "            ii = np.where(output > 0)\n",
    "            output[ii] = detnum[ii] + 1\n",
    "\n",
    "    return output"
   ]
  },
  {
   "cell_type": "code",
   "execution_count": 7,
   "metadata": {},
   "outputs": [],
   "source": [
    "os.chdir('/apool/qw/astro/nustar/IC342_X1/90201039002/event_cl')"
   ]
  },
  {
   "cell_type": "code",
   "execution_count": 8,
   "metadata": {},
   "outputs": [
    {
     "name": "stdout",
     "output_type": "stream",
     "text": [
      "nu90201039002A01_cl.evt  nu90201039002A06_cl.evt  nu90201039002B04_cl.evt\r\n",
      "nu90201039002A02_cl.evt  nu90201039002B01_cl.evt  nu90201039002B06_cl.evt\r\n",
      "nu90201039002A03_cl.evt  nu90201039002B02_cl.evt\r\n",
      "nu90201039002A04_cl.evt  nu90201039002B03_cl.evt\r\n"
     ]
    }
   ],
   "source": [
    "ls *.evt"
   ]
  },
  {
   "cell_type": "code",
   "execution_count": 9,
   "metadata": {},
   "outputs": [],
   "source": [
    "evtfh = pf.open('nu90201039002A01_cl.evt')\n",
    "evthdr = evtfh['EVENTS'].header"
   ]
  },
  {
   "cell_type": "code",
   "execution_count": 10,
   "metadata": {},
   "outputs": [
    {
     "data": {
      "text/plain": [
       "'data/nustar/fpm/bcf/instrmap/nuAinstrmap20100101v004.fits'"
      ]
     },
     "execution_count": 10,
     "metadata": {},
     "output_type": "execute_result"
    }
   ],
   "source": [
    "cal.getINSTRMAP(evthdr['INSTRUME'], evthdr['DATE-OBS'])"
   ]
  },
  {
   "cell_type": "code",
   "execution_count": 19,
   "metadata": {},
   "outputs": [],
   "source": [
    "pixmap, detnum = get_caldb_pixpos(evthdr)"
   ]
  },
  {
   "cell_type": "code",
   "execution_count": 22,
   "metadata": {},
   "outputs": [
    {
     "data": {
      "text/plain": [
       "1"
      ]
     },
     "execution_count": 22,
     "metadata": {},
     "output_type": "execute_result"
    }
   ],
   "source": [
    "ds.set_np2arr(pixmap)"
   ]
  },
  {
   "cell_type": "code",
   "execution_count": 23,
   "metadata": {},
   "outputs": [
    {
     "data": {
      "text/plain": [
       "1"
      ]
     },
     "execution_count": 23,
     "metadata": {},
     "output_type": "execute_result"
    }
   ],
   "source": [
    "ds.set_np2arr(detnum)"
   ]
  },
  {
   "cell_type": "code",
   "execution_count": 30,
   "metadata": {},
   "outputs": [
    {
     "name": "stdout",
     "output_type": "stream",
     "text": [
      "Collecting bad pixel lists...\n",
      "Added nu90201039002A01_cl.evt A DET0 to list.\n",
      "Added nu90201039002A01_cl.evt A DET1 to list.\n",
      "Added nu90201039002A01_cl.evt A DET2 to list.\n",
      "Added nu90201039002A01_cl.evt A DET3 to list.\n",
      "Added /soft/astro/heasarc/CALDB/data/nustar/fpm/bcf/badpix/nuAbadpix20100101v002.fits A DET0 to list.\n",
      "Added /soft/astro/heasarc/CALDB/data/nustar/fpm/bcf/badpix/nuAbadpix20100101v002.fits A DET1 to list.\n",
      "Added /soft/astro/heasarc/CALDB/data/nustar/fpm/bcf/badpix/nuAbadpix20100101v002.fits A DET2 to list.\n",
      "Added /soft/astro/heasarc/CALDB/data/nustar/fpm/bcf/badpix/nuAbadpix20100101v002.fits A DET3 to list.\n"
     ]
    }
   ],
   "source": [
    "bpixfiles = ['nu90201039002A01_cl.evt']\n",
    "caldbbpixpath = cal.getBADPIX(\n",
    "    evthdr['INSTRUME'], 'DET0', evthdr['DATE-OBS'])\n",
    "bpixfiles.append('%s/%s' % (os.environ['CALDB'], caldbbpixpath))\n",
    "\n",
    "print('Collecting bad pixel lists...')\n",
    "bpixexts = get_badpix_exts(bpixfiles)"
   ]
  },
  {
   "cell_type": "code",
   "execution_count": 45,
   "metadata": {},
   "outputs": [],
   "source": [
    "instrmap, header = get_caldb_instrmap(evthdr)"
   ]
  },
  {
   "cell_type": "code",
   "execution_count": 46,
   "metadata": {},
   "outputs": [
    {
     "data": {
      "text/plain": [
       "1"
      ]
     },
     "execution_count": 46,
     "metadata": {},
     "output_type": "execute_result"
    }
   ],
   "source": [
    "ds.set_np2arr(instrmap)"
   ]
  },
  {
   "cell_type": "code",
   "execution_count": 47,
   "metadata": {},
   "outputs": [
    {
     "name": "stdout",
     "output_type": "stream",
     "text": [
      "0\n",
      "1\n",
      "2\n",
      "3\n",
      "0\n",
      "1\n",
      "2\n",
      "3\n"
     ]
    }
   ],
   "source": [
    "def fpm_parse(keyword):\n",
    "    if keyword not in ('FPMA', 'FPMB'):\n",
    "        return False\n",
    "    else:\n",
    "        return keyword[-1]\n",
    "\n",
    "ab = fpm_parse(evthdr['INSTRUME'])\n",
    "masked_instrmap = apply_badpix(instrmap, bpixexts[ab], pixmap, detnum)"
   ]
  },
  {
   "cell_type": "code",
   "execution_count": 48,
   "metadata": {},
   "outputs": [
    {
     "data": {
      "text/plain": [
       "1"
      ]
     },
     "execution_count": 48,
     "metadata": {},
     "output_type": "execute_result"
    }
   ],
   "source": [
    "ds.set_np2arr(masked_instrmap)"
   ]
  },
  {
   "cell_type": "code",
   "execution_count": 20,
   "metadata": {},
   "outputs": [
    {
     "name": "stdout",
     "output_type": "stream",
     "text": [
      "\n",
      "An instance of ds9 was found to be running before we could\n",
      "start the 'xpans' name server. You will need to perform a\n",
      "bit of manual intervention in order to connect this\n",
      "existing ds9 to Python.\n",
      "\n",
      "For ds9 version 5.7 and beyond, simply register the\n",
      "existing ds9 with the xpans name server by selecting the\n",
      "ds9 File->XPA->Connect menu option. Your ds9 will now be\n",
      "fully accessible to pyds9 (e.g., it appear in the list\n",
      "returned by the ds9_targets() routine).\n",
      "\n",
      "For ds9 versions prior to 5.7, you cannot (easily) register\n",
      "with xpans, but you can view ds9's File->XPA Information\n",
      "menu option and pass the value associated with XPA_METHOD\n",
      "directly to the Python DS9() constructor, e.g.:\n",
      "\n",
      "    d = DS9('a000101:12345')\n",
      "\n",
      "The good news is that new instances of ds9 will be\n",
      "registered with xpans, and will be known to ds9_targets()\n",
      "and the DS9() constructor.\n",
      "\n"
     ]
    }
   ],
   "source": [
    "import pyds9"
   ]
  },
  {
   "cell_type": "code",
   "execution_count": null,
   "metadata": {},
   "outputs": [],
   "source": []
  },
  {
   "cell_type": "code",
   "execution_count": 21,
   "metadata": {},
   "outputs": [],
   "source": [
    "ds = pyds9.DS9('/tmp/.xpa/DS9_ds9.28641')"
   ]
  },
  {
   "cell_type": "code",
   "execution_count": null,
   "metadata": {},
   "outputs": [],
   "source": []
  }
 ],
 "metadata": {
  "kernelspec": {
   "display_name": "Python 3",
   "language": "python",
   "name": "python3"
  },
  "language_info": {
   "codemirror_mode": {
    "name": "ipython",
    "version": 3
   },
   "file_extension": ".py",
   "mimetype": "text/x-python",
   "name": "python",
   "nbconvert_exporter": "python",
   "pygments_lexer": "ipython3",
   "version": "3.5.6"
  }
 },
 "nbformat": 4,
 "nbformat_minor": 2
}
