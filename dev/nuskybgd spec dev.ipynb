{
 "cells": [
  {
   "cell_type": "code",
   "execution_count": 1,
   "metadata": {},
   "outputs": [],
   "source": [
    "import xspec"
   ]
  },
  {
   "cell_type": "code",
   "execution_count": 23,
   "metadata": {},
   "outputs": [],
   "source": [
    "import os\n",
    "import json\n",
    "import numpy as np"
   ]
  },
  {
   "cell_type": "code",
   "execution_count": 16,
   "metadata": {},
   "outputs": [],
   "source": [
    "import astropy.io.fits as pf\n",
    "import pyregion"
   ]
  },
  {
   "cell_type": "code",
   "execution_count": null,
   "metadata": {},
   "outputs": [],
   "source": [
    "import pyds9\n",
    "ds = pyds9.DS9('7f000001:53375')"
   ]
  },
  {
   "cell_type": "code",
   "execution_count": 17,
   "metadata": {},
   "outputs": [],
   "source": [
    "# from fitab.py\n",
    "def mask_from_region(regfile, refimg):\n",
    "    \"\"\"\n",
    "    Create a pixel mask for regfile based on the image WCS info in refimg.\n",
    "\n",
    "    Uses the pyregion module. Please keep to using circle, box, and ellipse\n",
    "    shapes in DS9, fk5 format to avoid unexpected behavior.\n",
    "    \"\"\"\n",
    "    fh = pf.open(refimg)\n",
    "    reg = pyregion.open(regfile)\n",
    "    mask = reg.get_mask(hdu=fh[0])\n",
    "    return mask\n",
    "\n",
    "# from fitab.py\n",
    "def check_bgdinfofile(bgdinfofile):\n",
    "    \"\"\"\n",
    "    Check that the background info file has the required items.\n",
    "    \"\"\"\n",
    "    if not os.path.exists(bgdinfofile):\n",
    "        print('Error: file %s not found.' % bgdinfofile)\n",
    "        return False\n",
    "\n",
    "    bgdinfo = json.loads(open(bgdinfofile).read())\n",
    "\n",
    "    problem = False\n",
    "    for key in (\n",
    "        'bgfiles', 'regfiles', 'refimgf', 'bgdapfiles', 'bgddetfiles'\n",
    "    ):\n",
    "        if key not in bgdinfo:\n",
    "            problem = True\n",
    "            print('%s not found in background info file.' % key)\n",
    "\n",
    "    # Same number of items in bgfiles and regfiles:\n",
    "    if len(bgdinfo['bgfiles']) != len(bgdinfo['regfiles']):\n",
    "        problem = True\n",
    "        print('bgfiles and regfiles must have the same number of entries.')\n",
    "\n",
    "    # A and B keys in bgdapfiles and bgddetfiles\n",
    "    if ('A' not in bgdinfo['bgdapfiles'] or\n",
    "            'B' not in bgdinfo['bgdapfiles'] or\n",
    "            'A' not in bgdinfo['bgddetfiles'] or\n",
    "            'B' not in bgdinfo['bgddetfiles']):\n",
    "        problem = True\n",
    "        print('bgdapfiles and bgddetfiles must have A and B keys.')\n",
    "\n",
    "    # Check files exist\n",
    "    queue = []\n",
    "    for _ in bgdinfo['bgfiles']:\n",
    "        if isinstance(_, str):\n",
    "            queue.append(_)\n",
    "\n",
    "    for _ in bgdinfo['regfiles']:\n",
    "        if isinstance(_, str):\n",
    "            queue.append(_)\n",
    "\n",
    "    for _ in bgdinfo['bgddetfiles']['A']:\n",
    "        if isinstance(_, str):\n",
    "            queue.append(_)\n",
    "\n",
    "    for _ in bgdinfo['bgddetfiles']['B']:\n",
    "        if isinstance(_, str):\n",
    "            queue.append(_)\n",
    "\n",
    "    queue.append(bgdinfo['refimgf'])\n",
    "    queue.append(bgdinfo['bgdapfiles']['A'])\n",
    "    queue.append(bgdinfo['bgdapfiles']['B'])\n",
    "\n",
    "    for _ in queue:\n",
    "        if not os.path.exists(_):\n",
    "            problem = True\n",
    "            print('Error: file %s not found.' % _)\n",
    "\n",
    "    if problem:\n",
    "        return False\n",
    "    else:\n",
    "        return bgdinfo\n"
   ]
  },
  {
   "cell_type": "code",
   "execution_count": 3,
   "metadata": {},
   "outputs": [],
   "source": [
    "specdir = '/Users/qw/astro/nustar/IC342_X1/90201039002/event_cl/spec'\n",
    "bgddir = '/Users/qw/astro/nustar/IC342_X1/90201039002/event_cl/bgd'"
   ]
  },
  {
   "cell_type": "code",
   "execution_count": 15,
   "metadata": {},
   "outputs": [],
   "source": [
    "ab = 'A'\n",
    "specfile = 'srcA_sr_g30.pha'\n",
    "regfile = '/Users/qw/astro/nustar/IC342_X1/90201039002/event_cl/src.reg'"
   ]
  },
  {
   "cell_type": "code",
   "execution_count": 26,
   "metadata": {},
   "outputs": [],
   "source": [
    "os.chdir(bgddir)\n",
    "bgdinfo = check_bgdinfofile('bgdinfo.json')\n",
    "# bgfiles and regfiles must have the same ordering\n",
    "bgfiles = bgdinfo['bgfiles']\n",
    "regfiles = bgdinfo['regfiles']\n",
    "refimgf = bgdinfo['refimgf']\n",
    "bgdapfiles = bgdinfo['bgdapfiles']\n",
    "bgddetfiles = bgdinfo['bgddetfiles']\n",
    "\n",
    "bgdapim = {}\n",
    "bgdapim['A'] = pf.open(bgdapfiles['A'])[0].data\n",
    "bgdapim['B'] = pf.open(bgdapfiles['B'])[0].data\n",
    "\n",
    "bgddetim = {}\n",
    "bgddetim['A'] = [\n",
    "    pf.open(bgddetfiles['A'][0])[0].data,\n",
    "    pf.open(bgddetfiles['A'][1])[0].data,\n",
    "    pf.open(bgddetfiles['A'][2])[0].data,\n",
    "    pf.open(bgddetfiles['A'][3])[0].data\n",
    "]\n",
    "bgddetim['B'] = [\n",
    "    pf.open(bgddetfiles['B'][0])[0].data,\n",
    "    pf.open(bgddetfiles['B'][1])[0].data,\n",
    "    pf.open(bgddetfiles['B'][2])[0].data,\n",
    "    pf.open(bgddetfiles['B'][3])[0].data\n",
    "]"
   ]
  },
  {
   "cell_type": "code",
   "execution_count": 27,
   "metadata": {},
   "outputs": [
    {
     "data": {
      "text/plain": [
       "{'bgfiles': ['bgd1A_sr_g30.pha',\n",
       "  'bgd1B_sr_g30.pha',\n",
       "  'bgd2A_sr_g30.pha',\n",
       "  'bgd2B_sr_g30.pha',\n",
       "  'bgd3A_sr_g30.pha',\n",
       "  'bgd3B_sr_g30.pha'],\n",
       " 'regfiles': ['bgd1A.reg',\n",
       "  'bgd1B.reg',\n",
       "  'bgd2A.reg',\n",
       "  'bgd2B.reg',\n",
       "  'bgd3A.reg',\n",
       "  'bgd3B.reg'],\n",
       " 'refimgf': 'bgdapA.fits',\n",
       " 'bgdapfiles': {'A': 'bgdapA.fits', 'B': 'bgdapB.fits'},\n",
       " 'bgddetfiles': {'A': ['det0Aim.fits',\n",
       "   'det1Aim.fits',\n",
       "   'det2Aim.fits',\n",
       "   'det3Aim.fits'],\n",
       "  'B': ['det0Bim.fits', 'det1Bim.fits', 'det2Bim.fits', 'det3Bim.fits']}}"
      ]
     },
     "execution_count": 27,
     "metadata": {},
     "output_type": "execute_result"
    }
   ],
   "source": [
    "bgdinfo"
   ]
  },
  {
   "cell_type": "markdown",
   "metadata": {},
   "source": [
    "Make a mask of the spectral region, and find the aperture image weight, and detector area weights."
   ]
  },
  {
   "cell_type": "code",
   "execution_count": 46,
   "metadata": {},
   "outputs": [
    {
     "data": {
      "text/plain": [
       "1"
      ]
     },
     "execution_count": 46,
     "metadata": {},
     "output_type": "execute_result"
    }
   ],
   "source": [
    "# Make region mask and calculate ratios\n",
    "regmask = np.int8(mask_from_region(regfile, bgdinfo['refimgf']))\n",
    "# Check mask in ds9\n",
    "ds.set_np2arr(regmask * bgdapim[ab])"
   ]
  },
  {
   "cell_type": "code",
   "execution_count": 44,
   "metadata": {},
   "outputs": [
    {
     "name": "stdout",
     "output_type": "stream",
     "text": [
      "115.4831\n"
     ]
    }
   ],
   "source": [
    "srcA_bgdapsum = np.sum(regmask * bgdapim[ab])\n",
    "print(srcA_bgdapsum)"
   ]
  },
  {
   "cell_type": "code",
   "execution_count": 45,
   "metadata": {},
   "outputs": [
    {
     "name": "stdout",
     "output_type": "stream",
     "text": [
      "[5386.368350425325, 4.149712517880847, 0.0057823775866781635, 405.93703331414486]\n"
     ]
    }
   ],
   "source": [
    "srcA_bgddet = [np.sum(regmask * detim) for detim in bgddetim[ab]]\n",
    "print(srcA_bgddet)"
   ]
  },
  {
   "cell_type": "code",
   "execution_count": null,
   "metadata": {},
   "outputs": [],
   "source": [
    "srcA"
   ]
  },
  {
   "cell_type": "code",
   "execution_count": null,
   "metadata": {},
   "outputs": [],
   "source": []
  },
  {
   "cell_type": "code",
   "execution_count": null,
   "metadata": {},
   "outputs": [],
   "source": []
  },
  {
   "cell_type": "code",
   "execution_count": null,
   "metadata": {},
   "outputs": [],
   "source": []
  },
  {
   "cell_type": "code",
   "execution_count": null,
   "metadata": {},
   "outputs": [],
   "source": []
  },
  {
   "cell_type": "code",
   "execution_count": 6,
   "metadata": {},
   "outputs": [],
   "source": [
    "os.chdir(specdir)\n",
    "t = pf.open(specfile)"
   ]
  },
  {
   "cell_type": "code",
   "execution_count": 7,
   "metadata": {},
   "outputs": [
    {
     "name": "stdout",
     "output_type": "stream",
     "text": [
      "Filename: srcA_sr_g30.pha\n",
      "No.    Name      Ver    Type      Cards   Dimensions   Format\n",
      "  0  PRIMARY       1 PrimaryHDU     360   (87, 87)   float32   \n",
      "  1  SPECTRUM      1 BinTableHDU    110   4096R x 4C   [J, J, I, I]   \n",
      "  2  GTI           1 BinTableHDU     54   40R x 2C   [1D, 1D]   \n",
      "  3  REG00101      1 BinTableHDU     81   1R x 6C   [1D, 1D, 16A, 1D, 1D, 1I]   \n"
     ]
    }
   ],
   "source": [
    "t.info()"
   ]
  },
  {
   "cell_type": "code",
   "execution_count": null,
   "metadata": {},
   "outputs": [],
   "source": []
  }
 ],
 "metadata": {
  "kernelspec": {
   "display_name": "Python 3",
   "language": "python",
   "name": "python3"
  },
  "language_info": {
   "codemirror_mode": {
    "name": "ipython",
    "version": 3
   },
   "file_extension": ".py",
   "mimetype": "text/x-python",
   "name": "python",
   "nbconvert_exporter": "python",
   "pygments_lexer": "ipython3",
   "version": "3.7.3"
  }
 },
 "nbformat": 4,
 "nbformat_minor": 2
}
